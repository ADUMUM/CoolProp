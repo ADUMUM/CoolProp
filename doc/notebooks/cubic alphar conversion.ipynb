{
 "metadata": {
  "name": "",
  "signature": "sha256:fb48730062f53dfef75238857792824906521c9e922329ecbc07f5a27eb710cd"
 },
 "nbformat": 3,
 "nbformat_minor": 0,
 "worksheets": [
  {
   "cells": [
    {
     "cell_type": "code",
     "collapsed": false,
     "input": [
      "from __future__ import division\n",
      "from sympy import *\n",
      "from IPython.display import display, Math, Latex\n",
      "from IPython.core.display import display_html\n",
      "init_session(quiet=True, use_latex='mathjax')\n",
      "init_printing()"
     ],
     "language": "python",
     "metadata": {},
     "outputs": [
      {
       "output_type": "stream",
       "stream": "stdout",
       "text": [
        "IPython console for SymPy 0.7.6 (Python 2.7.6-32-bit) (ground types: python)\n"
       ]
      }
     ],
     "prompt_number": 1
    },
    {
     "cell_type": "code",
     "collapsed": false,
     "input": [
      "b,rho_r,tau,delta,T_c,R = symbols('b,rho_r,tau,delta,T_c,R')\n",
      "a = symbols('a', cls=Function)(tau)"
     ],
     "language": "python",
     "metadata": {},
     "outputs": [],
     "prompt_number": 5
    },
    {
     "cell_type": "code",
     "collapsed": false,
     "input": [
      "alphar = -log(1-b*rho_r*delta)-a*tau/(R*b*T_c)*log(1+b*rho_r*delta)"
     ],
     "language": "python",
     "metadata": {},
     "outputs": []
    },
    {
     "cell_type": "code",
     "collapsed": false,
     "input": [
      "def format_deriv(arg, itau, idel, RHS):\n",
      "    \"\"\" \n",
      "    A function for giving a nice latex representation of \n",
      "    the partial derivative in question \n",
      "    \"\"\"\n",
      "    if itau+idel == 1:\n",
      "        numexp = ''\n",
      "    else:\n",
      "        numexp = '^{{{s:d}}}'.format(s=itau+idel)\n",
      "        \n",
      "    if itau == 0:\n",
      "        tau = ''\n",
      "    elif itau == 1:\n",
      "        tau = '\\\\partial \\\\tau'\n",
      "    else:\n",
      "        tau = '\\\\partial \\\\tau^{{{s:d}}}'.format(s=itau)\n",
      "        \n",
      "    if idel == 0:\n",
      "        delta = ''\n",
      "    elif idel == 1:\n",
      "        delta = '\\\\partial \\\\delta'\n",
      "    else:\n",
      "        delta = '\\\\partial \\\\delta^{{{s:d}}}'.format(s=idel)\n",
      "        \n",
      "    temp = '\\\\frac{{\\\\partial{{{numexp:s}}} {arg:s}}}{{{{{tau:s}}}{{{delta:s}}}}} = '\n",
      "    return Math(temp.format(**locals()) + latex(RHS))"
     ],
     "language": "python",
     "metadata": {},
     "outputs": [],
     "prompt_number": 25
    },
    {
     "cell_type": "code",
     "collapsed": false,
     "input": [
      "for deriv_count in range(1,5):\n",
      "    for dtau in range(deriv_count+1):\n",
      "        ddelta = deriv_count-dtau\n",
      "        #print dtau, ddelta\n",
      "        display(format_deriv('\\\\alpha^r', dtau, ddelta, diff(diff(alphar,tau,dtau),delta,ddelta)))"
     ],
     "language": "python",
     "metadata": {},
     "outputs": [
      {
       "latex": [
        "$$\\frac{\\partial{} \\alpha^r}{{}{\\partial \\delta}} = \\frac{b \\rho_{r}}{- b \\delta \\rho_{r} + 1} - \\frac{\\rho_{r} \\tau a{\\left (\\tau \\right )}}{R T_{c} \\left(b \\delta \\rho_{r} + 1\\right)}$$"
       ],
       "metadata": {},
       "output_type": "display_data",
       "text": [
        "<IPython.core.display.Math at 0xbb36748>"
       ]
      },
      {
       "latex": [
        "$$\\frac{\\partial{} \\alpha^r}{{\\partial \\tau}{}} = - \\frac{\\tau}{R T_{c} b} \\log{\\left (b \\delta \\rho_{r} + 1 \\right )} \\frac{d}{d \\tau} a{\\left (\\tau \\right )} - \\frac{a{\\left (\\tau \\right )}}{R T_{c} b} \\log{\\left (b \\delta \\rho_{r} + 1 \\right )}$$"
       ],
       "metadata": {},
       "output_type": "display_data",
       "text": [
        "<IPython.core.display.Math at 0xbb36cc0>"
       ]
      },
      {
       "latex": [
        "$$\\frac{\\partial{^{2}} \\alpha^r}{{}{\\partial \\delta^{2}}} = b \\rho_{r}^{2} \\left(\\frac{b}{\\left(b \\delta \\rho_{r} - 1\\right)^{2}} + \\frac{\\tau a{\\left (\\tau \\right )}}{R T_{c} \\left(b \\delta \\rho_{r} + 1\\right)^{2}}\\right)$$"
       ],
       "metadata": {},
       "output_type": "display_data",
       "text": [
        "<IPython.core.display.Math at 0xbbadb38>"
       ]
      },
      {
       "latex": [
        "$$\\frac{\\partial{^{2}} \\alpha^r}{{\\partial \\tau}{\\partial \\delta}} = - \\frac{\\rho_{r} \\tau \\frac{d}{d \\tau} a{\\left (\\tau \\right )}}{R T_{c} \\left(b \\delta \\rho_{r} + 1\\right)} - \\frac{\\rho_{r} a{\\left (\\tau \\right )}}{R T_{c} \\left(b \\delta \\rho_{r} + 1\\right)}$$"
       ],
       "metadata": {},
       "output_type": "display_data",
       "text": [
        "<IPython.core.display.Math at 0xb705978>"
       ]
      },
      {
       "latex": [
        "$$\\frac{\\partial{^{2}} \\alpha^r}{{\\partial \\tau^{2}}{}} = - \\frac{1}{R T_{c} b} \\left(\\tau \\frac{d^{2}}{d \\tau^{2}}  a{\\left (\\tau \\right )} + 2 \\frac{d}{d \\tau} a{\\left (\\tau \\right )}\\right) \\log{\\left (b \\delta \\rho_{r} + 1 \\right )}$$"
       ],
       "metadata": {},
       "output_type": "display_data",
       "text": [
        "<IPython.core.display.Math at 0xbbadc18>"
       ]
      },
      {
       "latex": [
        "$$\\frac{\\partial{^{3}} \\alpha^r}{{}{\\partial \\delta^{3}}} = - 2 b^{2} \\rho_{r}^{3} \\left(\\frac{b}{\\left(b \\delta \\rho_{r} - 1\\right)^{3}} + \\frac{\\tau a{\\left (\\tau \\right )}}{R T_{c} \\left(b \\delta \\rho_{r} + 1\\right)^{3}}\\right)$$"
       ],
       "metadata": {},
       "output_type": "display_data",
       "text": [
        "<IPython.core.display.Math at 0xbb49828>"
       ]
      },
      {
       "latex": [
        "$$\\frac{\\partial{^{3}} \\alpha^r}{{\\partial \\tau}{\\partial \\delta^{2}}} = \\frac{b \\rho_{r}^{2} \\left(\\tau \\frac{d}{d \\tau} a{\\left (\\tau \\right )} + a{\\left (\\tau \\right )}\\right)}{R T_{c} \\left(b \\delta \\rho_{r} + 1\\right)^{2}}$$"
       ],
       "metadata": {},
       "output_type": "display_data",
       "text": [
        "<IPython.core.display.Math at 0xbb49e48>"
       ]
      },
      {
       "latex": [
        "$$\\frac{\\partial{^{3}} \\alpha^r}{{\\partial \\tau^{2}}{\\partial \\delta}} = - \\frac{\\rho_{r}}{R T_{c} \\left(b \\delta \\rho_{r} + 1\\right)} \\left(\\tau \\frac{d^{2}}{d \\tau^{2}}  a{\\left (\\tau \\right )} + 2 \\frac{d}{d \\tau} a{\\left (\\tau \\right )}\\right)$$"
       ],
       "metadata": {},
       "output_type": "display_data",
       "text": [
        "<IPython.core.display.Math at 0xbb49588>"
       ]
      },
      {
       "latex": [
        "$$\\frac{\\partial{^{3}} \\alpha^r}{{\\partial \\tau^{3}}{}} = - \\frac{1}{R T_{c} b} \\left(\\tau \\frac{d^{3}}{d \\tau^{3}}  a{\\left (\\tau \\right )} + 3 \\frac{d^{2}}{d \\tau^{2}}  a{\\left (\\tau \\right )}\\right) \\log{\\left (b \\delta \\rho_{r} + 1 \\right )}$$"
       ],
       "metadata": {},
       "output_type": "display_data",
       "text": [
        "<IPython.core.display.Math at 0xbb4b518>"
       ]
      },
      {
       "latex": [
        "$$\\frac{\\partial{^{4}} \\alpha^r}{{}{\\partial \\delta^{4}}} = 6 b^{3} \\rho_{r}^{4} \\left(\\frac{b}{\\left(b \\delta \\rho_{r} - 1\\right)^{4}} + \\frac{\\tau a{\\left (\\tau \\right )}}{R T_{c} \\left(b \\delta \\rho_{r} + 1\\right)^{4}}\\right)$$"
       ],
       "metadata": {},
       "output_type": "display_data",
       "text": [
        "<IPython.core.display.Math at 0xbb36748>"
       ]
      },
      {
       "latex": [
        "$$\\frac{\\partial{^{4}} \\alpha^r}{{\\partial \\tau}{\\partial \\delta^{3}}} = - \\frac{2 b^{2} \\rho_{r}^{3}}{R T_{c} \\left(b \\delta \\rho_{r} + 1\\right)^{3}} \\left(\\tau \\frac{d}{d \\tau} a{\\left (\\tau \\right )} + a{\\left (\\tau \\right )}\\right)$$"
       ],
       "metadata": {},
       "output_type": "display_data",
       "text": [
        "<IPython.core.display.Math at 0xbb36cf8>"
       ]
      },
      {
       "latex": [
        "$$\\frac{\\partial{^{4}} \\alpha^r}{{\\partial \\tau^{2}}{\\partial \\delta^{2}}} = \\frac{b \\rho_{r}^{2}}{R T_{c} \\left(b \\delta \\rho_{r} + 1\\right)^{2}} \\left(\\tau \\frac{d^{2}}{d \\tau^{2}}  a{\\left (\\tau \\right )} + 2 \\frac{d}{d \\tau} a{\\left (\\tau \\right )}\\right)$$"
       ],
       "metadata": {},
       "output_type": "display_data",
       "text": [
        "<IPython.core.display.Math at 0xbbad7b8>"
       ]
      },
      {
       "latex": [
        "$$\\frac{\\partial{^{4}} \\alpha^r}{{\\partial \\tau^{3}}{\\partial \\delta}} = - \\frac{\\rho_{r}}{R T_{c} \\left(b \\delta \\rho_{r} + 1\\right)} \\left(\\tau \\frac{d^{3}}{d \\tau^{3}}  a{\\left (\\tau \\right )} + 3 \\frac{d^{2}}{d \\tau^{2}}  a{\\left (\\tau \\right )}\\right)$$"
       ],
       "metadata": {},
       "output_type": "display_data",
       "text": [
        "<IPython.core.display.Math at 0xb7e5710>"
       ]
      },
      {
       "latex": [
        "$$\\frac{\\partial{^{4}} \\alpha^r}{{\\partial \\tau^{4}}{}} = - \\frac{1}{R T_{c} b} \\left(\\tau \\frac{d^{4}}{d \\tau^{4}}  a{\\left (\\tau \\right )} + 4 \\frac{d^{3}}{d \\tau^{3}}  a{\\left (\\tau \\right )}\\right) \\log{\\left (b \\delta \\rho_{r} + 1 \\right )}$$"
       ],
       "metadata": {},
       "output_type": "display_data",
       "text": [
        "<IPython.core.display.Math at 0xbbadc18>"
       ]
      }
     ],
     "prompt_number": 28
    },
    {
     "cell_type": "code",
     "collapsed": false,
     "input": [],
     "language": "python",
     "metadata": {},
     "outputs": []
    }
   ],
   "metadata": {}
  }
 ]
}