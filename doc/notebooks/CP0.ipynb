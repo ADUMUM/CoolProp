{
 "metadata": {
  "name": ""
 },
 "nbformat": 3,
 "nbformat_minor": 0,
 "worksheets": [
  {
   "cells": [
    {
     "cell_type": "heading",
     "level": 1,
     "metadata": {},
     "source": [
      "Conversion of Aly-Lee form to Planck-Einstein"
     ]
    },
    {
     "cell_type": "code",
     "collapsed": false,
     "input": [
      "from __future__ import division\n",
      "from sympy import *\n",
      "init_session(quiet=True)\n",
      "init_printing()"
     ],
     "language": "python",
     "metadata": {},
     "outputs": [
      {
       "output_type": "stream",
       "stream": "stdout",
       "text": [
        "IPython console for SymPy 0.7.5 (Python 2.7.2-32-bit) (ground types: python)\n"
       ]
      }
     ],
     "prompt_number": 2
    },
    {
     "cell_type": "code",
     "collapsed": false,
     "input": [
      "alpha0 = a_k*log(c_k + d_k*exp(b_k*tau/T_c))\n",
      "display(diff(alpha0, tau, 2)*(-tau**2).together().ratsimp())"
     ],
     "language": "python",
     "metadata": {},
     "outputs": [
      {
       "latex": [
        "$$- \\frac{a_{k} b_{k}^{2} d_{k} \\tau^{2} e^{\\frac{b_{k} \\tau}{T_{c}}}}{T_{c}^{2} \\left(c_{k} + d_{k} e^{\\frac{b_{k} \\tau}{T_{c}}}\\right)} \\left(- \\frac{d_{k} e^{\\frac{b_{k} \\tau}{T_{c}}}}{c_{k} + d_{k} e^{\\frac{b_{k} \\tau}{T_{c}}}} + 1\\right)$$"
       ],
       "metadata": {},
       "output_type": "display_data",
       "png": "[encoded data removed]",
       "text": [
        "                 \u239b          b_k\u22c5\u03c4       \u239e        \n",
        "                 \u239c          \u2500\u2500\u2500\u2500\u2500       \u239f  b_k\u22c5\u03c4 \n",
        "                 \u239c           T_c        \u239f  \u2500\u2500\u2500\u2500\u2500 \n",
        "        2      2 \u239c     d_k\u22c5\u212f            \u239f   T_c  \n",
        "-a_k\u22c5b_k \u22c5d_k\u22c5\u03c4 \u22c5\u239c- \u2500\u2500\u2500\u2500\u2500\u2500\u2500\u2500\u2500\u2500\u2500\u2500\u2500\u2500\u2500\u2500 + 1\u239f\u22c5\u212f      \n",
        "                 \u239c             b_k\u22c5\u03c4    \u239f        \n",
        "                 \u239c             \u2500\u2500\u2500\u2500\u2500    \u239f        \n",
        "                 \u239c              T_c     \u239f        \n",
        "                 \u239d  c_k + d_k\u22c5\u212f         \u23a0        \n",
        "\u2500\u2500\u2500\u2500\u2500\u2500\u2500\u2500\u2500\u2500\u2500\u2500\u2500\u2500\u2500\u2500\u2500\u2500\u2500\u2500\u2500\u2500\u2500\u2500\u2500\u2500\u2500\u2500\u2500\u2500\u2500\u2500\u2500\u2500\u2500\u2500\u2500\u2500\u2500\u2500\u2500\u2500\u2500\u2500\u2500\u2500\u2500\u2500\u2500\n",
        "                  \u239b           b_k\u22c5\u03c4\u239e             \n",
        "                  \u239c           \u2500\u2500\u2500\u2500\u2500\u239f             \n",
        "                2 \u239c            T_c \u239f             \n",
        "             T_c \u22c5\u239dc_k + d_k\u22c5\u212f     \u23a0             "
       ]
      }
     ],
     "prompt_number": 4
    },
    {
     "cell_type": "markdown",
     "metadata": {},
     "source": [
      "And then with some manual simplification:\n",
      "$$\\frac{c_p^0}{R} = - \\frac{a_{k} (b_{k}\\tau/T_c)^{2} c_k d_{k} e^{\\frac{b_{k} \\tau}{T_{c}}}}{ \\left(c_{k} + d_{k} e^{\\frac{b_{k} \\tau}{T_{c}}}\\right)^2} $$\n",
      "\n",
      "Two important identities:\n",
      "$$ \\left(\\frac{1}{\\cosh x}\\right) = \\frac{2e^{-x}}{1+e^{-2x}}$$\n",
      "$$ \\left(\\frac{1}{\\sinh x}\\right) = \\frac{2e^{-x}}{1-e^{-2x}}$$\n",
      "which yield\n",
      "$$ \\left(\\frac{1}{\\cosh x}\\right)^2 = \\frac{4e^{-2x}}{(1+e^{-2x})^2}$$\n",
      "$$ \\left(\\frac{1}{\\sinh x}\\right)^2 = \\frac{4e^{-2x}}{(1-e^{-2x})^2}$$"
     ]
    },
    {
     "cell_type": "code",
     "collapsed": false,
     "input": [
      "B, D, T = symbols('B, D, T', real = True, positive = True)\n",
      "# From Aly-Lee:\n",
      "term1 = ((D/T)/sinh(D/T))**2\n",
      "# Planck Einstein\n",
      "term2 = (B/T)**2*exp(B/T)/(exp(B/T)-1)**2\n",
      "diff1 = term2 - term1\n",
      "display(diff1.rewrite(exp).subs(B, 2*D).simplify())\n",
      "term2 = (2*D/T)**2*exp(2*D/T)/(exp(2*D/T)-1)**2\n",
      "display(term2)\n",
      "print 'which is the same as the Aly-Lee sinh term with b_k = 2*D'\n",
      "\n",
      "B, F, T = symbols('B, F, T', real = True, positive = True)\n",
      "# From Aly-Lee:\n",
      "term1 = ((F/T)/cosh(F/T))**2\n",
      "# Planck Einstein\n",
      "term2 = (B/T)**2*exp(-B/T)/(exp(-B/T)+1)**2\n",
      "diff2 = term2 - term1\n",
      "display(diff2.rewrite(exp).subs(B, 2*F).simplify())\n",
      "# So Aly-Lee cosh term can be directly converted to Plank-Einstein2 term with b_k = 2*F, and c=1"
     ],
     "language": "python",
     "metadata": {},
     "outputs": [
      {
       "latex": [
        "$$0$$"
       ],
       "metadata": {},
       "output_type": "display_data",
       "png": "[encoded data removed]",
       "text": [
        "0"
       ]
      },
      {
       "latex": [
        "$$\\frac{4 D^{2} e^{\\frac{2 D}{T}}}{T^{2} \\left(e^{\\frac{2 D}{T}} - 1\\right)^{2}}$$"
       ],
       "metadata": {},
       "output_type": "display_data",
       "png": "[encoded data removed]",
       "text": [
        "        2\u22c5D   \n",
        "        \u2500\u2500\u2500   \n",
        "     2   T    \n",
        "  4\u22c5D \u22c5\u212f      \n",
        "\u2500\u2500\u2500\u2500\u2500\u2500\u2500\u2500\u2500\u2500\u2500\u2500\u2500\u2500\n",
        "             2\n",
        "   \u239b 2\u22c5D    \u239e \n",
        "   \u239c \u2500\u2500\u2500    \u239f \n",
        " 2 \u239c  T     \u239f \n",
        "T \u22c5\u239d\u212f    - 1\u23a0 "
       ]
      },
      {
       "output_type": "stream",
       "stream": "stdout",
       "text": [
        "which is the same as the Aly-Lee sinh term with b_k = 2*D\n"
       ]
      },
      {
       "latex": [
        "$$0$$"
       ],
       "metadata": {},
       "output_type": "display_data",
       "png": "[encoded data removed]",
       "text": [
        "0"
       ]
      }
     ],
     "prompt_number": 10
    }
   ],
   "metadata": {}
  }
 ]
}