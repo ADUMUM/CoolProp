{
 "metadata": {
  "name": "",
  "signature": "sha256:4913325dfd735ea47faab0561bfd914acc79e284d566e25902947fbd77714a29"
 },
 "nbformat": 3,
 "nbformat_minor": 0,
 "worksheets": [
  {
   "cells": [
    {
     "cell_type": "code",
     "collapsed": false,
     "input": [
      "from __future__ import division\n",
      "from sympy import *\n",
      "from IPython.display import display, Math, Latex\n",
      "from IPython.core.display import display_html\n",
      "init_session(quiet=True, use_latex='mathjax')\n",
      "init_printing()"
     ],
     "language": "python",
     "metadata": {},
     "outputs": [
      {
       "output_type": "stream",
       "stream": "stdout",
       "text": [
        "IPython console for SymPy 0.7.6 (Python 2.7.6-32-bit) (ground types: python)\n"
       ]
      }
     ],
     "prompt_number": 3
    },
    {
     "cell_type": "code",
     "collapsed": false,
     "input": [
      "def format_deriv(arg, itau, idel):\n",
      "    \"\"\" A function for giving a nice latex representation of the partial derivative in question \"\"\"\n",
      "    if itau+idel == 1:\n",
      "        numexp = ''\n",
      "    else:\n",
      "        numexp = '^{{{s:d}}}'.format(s=itau+idel)\n",
      "        \n",
      "    if itau == 0:\n",
      "        tau = ''\n",
      "    elif itau == 1:\n",
      "        tau = '\\\\partial \\\\tau'\n",
      "    else:\n",
      "        tau = '\\\\partial \\\\tau^{{{s:d}}}'.format(s=itau)\n",
      "        \n",
      "    if idel == 0:\n",
      "        delta = ''\n",
      "    elif idel == 1:\n",
      "        delta = '\\\\partial \\\\delta'\n",
      "    else:\n",
      "        delta = '\\\\partial \\\\delta^{{{s:d}}}'.format(s=idel)\n",
      "        \n",
      "    temp = '\\\\frac{{\\\\partial{{{numexp:s}}} {arg:s}}}{{{{{tau:s}}}{{{delta:s}}}}} = '\n",
      "    return temp.format(**locals())"
     ],
     "language": "python",
     "metadata": {},
     "outputs": [],
     "prompt_number": 4
    },
    {
     "cell_type": "heading",
     "level": 2,
     "metadata": {},
     "source": [
      "Derivatives of $\\Delta$"
     ]
    },
    {
     "cell_type": "code",
     "collapsed": false,
     "input": [
      "d_i, a_i, tau, delta = symbols('d_i, a_i, tau, delta')\n",
      "theta = symbols('theta', cls=Function)(tau, delta)\n",
      "Delta = theta**2+d_i*((delta-1)**2)**a_i\n",
      "display(Delta)\n",
      "\n",
      "#c_i, beta_i = symbols('c_i, beta_i')\n",
      "#_theta = (1-tau) + c_i*((delta-1)**2)**(1/(2*beta_i))\n",
      "\n",
      "def deriv(idel, itau):\n",
      "    display(Math(format_deriv('\\Delta',itau,idel)+latex( diff(diff(Delta, tau, itau), delta, idel)) ))\n",
      "    #el = diff(diff(Delta, tau, itau), delta, idel)\n",
      "    #args = dict(c_i = 0.7, beta_i = 0.3, d_i = 0.3, a_i = 3.5, tau = 1.3, delta = 0.9) \n",
      "    #for n in range(1,5):\n",
      "    #    for _itau in range(0,n+1):\n",
      "    #        s = diff(diff(_theta, tau, _itau), delta, n-_itau).subs(args)\n",
      "    #        el = el.replace(diff(diff(theta, tau, _itau), delta, n-_itau), s)\n",
      "    #el = el.subs(theta, _theta)\n",
      "    #print el.subs(args).evalf()\n",
      "\n",
      "for n in range(1,5):\n",
      "    for itau in range(0,n+1):\n",
      "        deriv(itau, n-itau)"
     ],
     "language": "python",
     "metadata": {},
     "outputs": [
      {
       "latex": [
        "$$d_{i} \\left(\\left(\\delta - 1\\right)^{2}\\right)^{a_{i}} + \\theta^{2}{\\left (\\tau,\\delta \\right )}$$"
       ],
       "metadata": {},
       "output_type": "display_data",
       "png": "[encoded data removed]",
       "text": [
        "             a\u1d62           \n",
        "   \u239b       2\u239e      2      \n",
        "d\u1d62\u22c5\u239d(\u03b4 - 1) \u23a0   + \u03b8 (\u03c4, \u03b4)"
       ]
      },
      {
       "latex": [
        "$$\\frac{\\partial{} \\Delta}{{\\partial \\tau}{}} = 2 \\theta{\\left (\\tau,\\delta \\right )} \\frac{\\partial}{\\partial \\tau} \\theta{\\left (\\tau,\\delta \\right )}$$"
       ],
       "metadata": {},
       "output_type": "display_data",
       "text": [
        "<IPython.core.display.Math at 0xb608f98>"
       ]
      },
      {
       "latex": [
        "$$\\frac{\\partial{} \\Delta}{{}{\\partial \\delta}} = \\frac{a_{i} d_{i} \\left(\\left(\\delta - 1\\right)^{2}\\right)^{a_{i}}}{\\left(\\delta - 1\\right)^{2}} \\left(2 \\delta - 2\\right) + 2 \\theta{\\left (\\tau,\\delta \\right )} \\frac{\\partial}{\\partial \\delta} \\theta{\\left (\\tau,\\delta \\right )}$$"
       ],
       "metadata": {},
       "output_type": "display_data",
       "text": [
        "<IPython.core.display.Math at 0x1df7f28>"
       ]
      },
      {
       "latex": [
        "$$\\frac{\\partial{^{2}} \\Delta}{{\\partial \\tau^{2}}{}} = 2 \\left(\\theta{\\left (\\tau,\\delta \\right )} \\frac{\\partial^{2}}{\\partial \\tau^{2}}  \\theta{\\left (\\tau,\\delta \\right )} + \\left(\\frac{\\partial}{\\partial \\tau} \\theta{\\left (\\tau,\\delta \\right )}\\right)^{2}\\right)$$"
       ],
       "metadata": {},
       "output_type": "display_data",
       "text": [
        "<IPython.core.display.Math at 0xb7887b8>"
       ]
      },
      {
       "latex": [
        "$$\\frac{\\partial{^{2}} \\Delta}{{\\partial \\tau}{\\partial \\delta}} = 2 \\theta{\\left (\\tau,\\delta \\right )} \\frac{\\partial^{2}}{\\partial \\delta\\partial \\tau}  \\theta{\\left (\\tau,\\delta \\right )} + 2 \\frac{\\partial}{\\partial \\delta} \\theta{\\left (\\tau,\\delta \\right )} \\frac{\\partial}{\\partial \\tau} \\theta{\\left (\\tau,\\delta \\right )}$$"
       ],
       "metadata": {},
       "output_type": "display_data",
       "text": [
        "<IPython.core.display.Math at 0xb6209b0>"
       ]
      },
      {
       "latex": [
        "$$\\frac{\\partial{^{2}} \\Delta}{{}{\\partial \\delta^{2}}} = 2 \\left(\\frac{2 a_{i}^{2} d_{i} \\left(\\left(\\delta - 1\\right)^{2}\\right)^{a_{i}}}{\\left(\\delta - 1\\right)^{2}} - \\frac{a_{i} d_{i} \\left(\\left(\\delta - 1\\right)^{2}\\right)^{a_{i}}}{\\left(\\delta - 1\\right)^{2}} + \\theta{\\left (\\tau,\\delta \\right )} \\frac{\\partial^{2}}{\\partial \\delta^{2}}  \\theta{\\left (\\tau,\\delta \\right )} + \\left(\\frac{\\partial}{\\partial \\delta} \\theta{\\left (\\tau,\\delta \\right )}\\right)^{2}\\right)$$"
       ],
       "metadata": {},
       "output_type": "display_data",
       "text": [
        "<IPython.core.display.Math at 0xb9a2358>"
       ]
      },
      {
       "latex": [
        "$$\\frac{\\partial{^{3}} \\Delta}{{\\partial \\tau^{3}}{}} = 2 \\left(\\theta{\\left (\\tau,\\delta \\right )} \\frac{\\partial^{3}}{\\partial \\tau^{3}}  \\theta{\\left (\\tau,\\delta \\right )} + 3 \\frac{\\partial}{\\partial \\tau} \\theta{\\left (\\tau,\\delta \\right )} \\frac{\\partial^{2}}{\\partial \\tau^{2}}  \\theta{\\left (\\tau,\\delta \\right )}\\right)$$"
       ],
       "metadata": {},
       "output_type": "display_data",
       "text": [
        "<IPython.core.display.Math at 0xb9b8f28>"
       ]
      },
      {
       "latex": [
        "$$\\frac{\\partial{^{3}} \\Delta}{{\\partial \\tau^{2}}{\\partial \\delta}} = 2 \\theta{\\left (\\tau,\\delta \\right )} \\frac{\\partial^{3}}{\\partial \\delta\\partial \\tau^{2}}  \\theta{\\left (\\tau,\\delta \\right )} + 2 \\frac{\\partial}{\\partial \\delta} \\theta{\\left (\\tau,\\delta \\right )} \\frac{\\partial^{2}}{\\partial \\tau^{2}}  \\theta{\\left (\\tau,\\delta \\right )} + 4 \\frac{\\partial}{\\partial \\tau} \\theta{\\left (\\tau,\\delta \\right )} \\frac{\\partial^{2}}{\\partial \\delta\\partial \\tau}  \\theta{\\left (\\tau,\\delta \\right )}$$"
       ],
       "metadata": {},
       "output_type": "display_data",
       "text": [
        "<IPython.core.display.Math at 0xb9bea58>"
       ]
      },
      {
       "latex": [
        "$$\\frac{\\partial{^{3}} \\Delta}{{\\partial \\tau}{\\partial \\delta^{2}}} = 2 \\left(\\theta{\\left (\\tau,\\delta \\right )} \\frac{\\partial^{3}}{\\partial \\delta^{2}\\partial \\tau}  \\theta{\\left (\\tau,\\delta \\right )} + 2 \\frac{\\partial}{\\partial \\delta} \\theta{\\left (\\tau,\\delta \\right )} \\frac{\\partial^{2}}{\\partial \\delta\\partial \\tau}  \\theta{\\left (\\tau,\\delta \\right )} + \\frac{\\partial}{\\partial \\tau} \\theta{\\left (\\tau,\\delta \\right )} \\frac{\\partial^{2}}{\\partial \\delta^{2}}  \\theta{\\left (\\tau,\\delta \\right )}\\right)$$"
       ],
       "metadata": {},
       "output_type": "display_data",
       "text": [
        "<IPython.core.display.Math at 0xb9c8f60>"
       ]
      },
      {
       "latex": [
        "$$\\frac{\\partial{^{3}} \\Delta}{{}{\\partial \\delta^{3}}} = 2 \\left(\\frac{4 a_{i}^{3} d_{i} \\left(\\left(\\delta - 1\\right)^{2}\\right)^{a_{i}}}{\\left(\\delta - 1\\right)^{3}} - \\frac{6 a_{i}^{2} d_{i} \\left(\\left(\\delta - 1\\right)^{2}\\right)^{a_{i}}}{\\left(\\delta - 1\\right)^{3}} + \\frac{2 a_{i} d_{i} \\left(\\left(\\delta - 1\\right)^{2}\\right)^{a_{i}}}{\\left(\\delta - 1\\right)^{3}} + \\theta{\\left (\\tau,\\delta \\right )} \\frac{\\partial^{3}}{\\partial \\delta^{3}}  \\theta{\\left (\\tau,\\delta \\right )} + 3 \\frac{\\partial}{\\partial \\delta} \\theta{\\left (\\tau,\\delta \\right )} \\frac{\\partial^{2}}{\\partial \\delta^{2}}  \\theta{\\left (\\tau,\\delta \\right )}\\right)$$"
       ],
       "metadata": {},
       "output_type": "display_data",
       "text": [
        "<IPython.core.display.Math at 0xba256d8>"
       ]
      },
      {
       "latex": [
        "$$\\frac{\\partial{^{4}} \\Delta}{{\\partial \\tau^{4}}{}} = 2 \\left(\\theta{\\left (\\tau,\\delta \\right )} \\frac{\\partial^{4}}{\\partial \\tau^{4}}  \\theta{\\left (\\tau,\\delta \\right )} + 4 \\frac{\\partial}{\\partial \\tau} \\theta{\\left (\\tau,\\delta \\right )} \\frac{\\partial^{3}}{\\partial \\tau^{3}}  \\theta{\\left (\\tau,\\delta \\right )} + 3 \\left(\\frac{\\partial^{2}}{\\partial \\tau^{2}}  \\theta{\\left (\\tau,\\delta \\right )}\\right)^{2}\\right)$$"
       ],
       "metadata": {},
       "output_type": "display_data",
       "text": [
        "<IPython.core.display.Math at 0xba36f28>"
       ]
      },
      {
       "latex": [
        "$$\\frac{\\partial{^{4}} \\Delta}{{\\partial \\tau^{3}}{\\partial \\delta}} = 2 \\theta{\\left (\\tau,\\delta \\right )} \\frac{\\partial^{4}}{\\partial \\delta\\partial \\tau^{3}}  \\theta{\\left (\\tau,\\delta \\right )} + 2 \\frac{\\partial}{\\partial \\delta} \\theta{\\left (\\tau,\\delta \\right )} \\frac{\\partial^{3}}{\\partial \\tau^{3}}  \\theta{\\left (\\tau,\\delta \\right )} + 6 \\frac{\\partial}{\\partial \\tau} \\theta{\\left (\\tau,\\delta \\right )} \\frac{\\partial^{3}}{\\partial \\delta\\partial \\tau^{2}}  \\theta{\\left (\\tau,\\delta \\right )} + 6 \\frac{\\partial^{2}}{\\partial \\delta\\partial \\tau}  \\theta{\\left (\\tau,\\delta \\right )} \\frac{\\partial^{2}}{\\partial \\tau^{2}}  \\theta{\\left (\\tau,\\delta \\right )}$$"
       ],
       "metadata": {},
       "output_type": "display_data",
       "text": [
        "<IPython.core.display.Math at 0xba3bfd0>"
       ]
      },
      {
       "latex": [
        "$$\\frac{\\partial{^{4}} \\Delta}{{\\partial \\tau^{2}}{\\partial \\delta^{2}}} = 2 \\left(\\theta{\\left (\\tau,\\delta \\right )} \\frac{\\partial^{4}}{\\partial \\delta^{2}\\partial \\tau^{2}}  \\theta{\\left (\\tau,\\delta \\right )} + 2 \\frac{\\partial}{\\partial \\delta} \\theta{\\left (\\tau,\\delta \\right )} \\frac{\\partial^{3}}{\\partial \\delta\\partial \\tau^{2}}  \\theta{\\left (\\tau,\\delta \\right )} + 2 \\frac{\\partial}{\\partial \\tau} \\theta{\\left (\\tau,\\delta \\right )} \\frac{\\partial^{3}}{\\partial \\delta^{2}\\partial \\tau}  \\theta{\\left (\\tau,\\delta \\right )} + \\frac{\\partial^{2}}{\\partial \\delta^{2}}  \\theta{\\left (\\tau,\\delta \\right )} \\frac{\\partial^{2}}{\\partial \\tau^{2}}  \\theta{\\left (\\tau,\\delta \\right )} + 2 \\left(\\frac{\\partial^{2}}{\\partial \\delta\\partial \\tau}  \\theta{\\left (\\tau,\\delta \\right )}\\right)^{2}\\right)$$"
       ],
       "metadata": {},
       "output_type": "display_data",
       "text": [
        "<IPython.core.display.Math at 0xb620128>"
       ]
      },
      {
       "latex": [
        "$$\\frac{\\partial{^{4}} \\Delta}{{\\partial \\tau}{\\partial \\delta^{3}}} = 2 \\left(\\theta{\\left (\\tau,\\delta \\right )} \\frac{\\partial^{4}}{\\partial \\delta^{3}\\partial \\tau}  \\theta{\\left (\\tau,\\delta \\right )} + 3 \\frac{\\partial}{\\partial \\delta} \\theta{\\left (\\tau,\\delta \\right )} \\frac{\\partial^{3}}{\\partial \\delta^{2}\\partial \\tau}  \\theta{\\left (\\tau,\\delta \\right )} + \\frac{\\partial}{\\partial \\tau} \\theta{\\left (\\tau,\\delta \\right )} \\frac{\\partial^{3}}{\\partial \\delta^{3}}  \\theta{\\left (\\tau,\\delta \\right )} + 3 \\frac{\\partial^{2}}{\\partial \\delta^{2}}  \\theta{\\left (\\tau,\\delta \\right )} \\frac{\\partial^{2}}{\\partial \\delta\\partial \\tau}  \\theta{\\left (\\tau,\\delta \\right )}\\right)$$"
       ],
       "metadata": {},
       "output_type": "display_data",
       "text": [
        "<IPython.core.display.Math at 0xba36f28>"
       ]
      },
      {
       "latex": [
        "$$\\frac{\\partial{^{4}} \\Delta}{{}{\\partial \\delta^{4}}} = 2 \\left(\\frac{8 a_{i}^{4} d_{i} \\left(\\left(\\delta - 1\\right)^{2}\\right)^{a_{i}}}{\\left(\\delta - 1\\right)^{4}} - \\frac{24 a_{i}^{3} d_{i} \\left(\\left(\\delta - 1\\right)^{2}\\right)^{a_{i}}}{\\left(\\delta - 1\\right)^{4}} + \\frac{22 a_{i}^{2} d_{i} \\left(\\left(\\delta - 1\\right)^{2}\\right)^{a_{i}}}{\\left(\\delta - 1\\right)^{4}} - \\frac{6 a_{i} d_{i} \\left(\\left(\\delta - 1\\right)^{2}\\right)^{a_{i}}}{\\left(\\delta - 1\\right)^{4}} + \\theta{\\left (\\tau,\\delta \\right )} \\frac{\\partial^{4}}{\\partial \\delta^{4}}  \\theta{\\left (\\tau,\\delta \\right )} + 4 \\frac{\\partial}{\\partial \\delta} \\theta{\\left (\\tau,\\delta \\right )} \\frac{\\partial^{3}}{\\partial \\delta^{3}}  \\theta{\\left (\\tau,\\delta \\right )} + 3 \\left(\\frac{\\partial^{2}}{\\partial \\delta^{2}}  \\theta{\\left (\\tau,\\delta \\right )}\\right)^{2}\\right)$$"
       ],
       "metadata": {},
       "output_type": "display_data",
       "text": [
        "<IPython.core.display.Math at 0xba3d5c0>"
       ]
      }
     ],
     "prompt_number": 5
    },
    {
     "cell_type": "heading",
     "level": 2,
     "metadata": {},
     "source": [
      "Derivatives of $\\theta$"
     ]
    },
    {
     "cell_type": "code",
     "collapsed": false,
     "input": [
      "c_i, beta_i, tau, delta = symbols('c_i, beta_i, tau, delta')\n",
      "theta = (1-tau) + c_i*((delta-1)**2)**(1/(2*beta_i))\n",
      "display(theta)\n",
      "\n",
      "def deriv(idel, itau):\n",
      "    display(Math(format_deriv('\\\\theta',itau,idel)+latex( diff(diff(theta, tau, itau), delta, idel)) ))\n",
      "    #print diff(diff(theta, tau, itau), delta, idel).subs(dict(c_i = 0.7, beta_i = 0.3, tau= 1.3, delta = 0.9))\n",
      "\n",
      "for n in range(1,5):\n",
      "    for itau in range(0,n+1):\n",
      "        deriv(itau, n-itau)"
     ],
     "language": "python",
     "metadata": {},
     "outputs": [
      {
       "latex": [
        "$$c_{i} \\left(\\left(\\delta - 1\\right)^{2}\\right)^{\\frac{1}{2 \\beta_{i}}} - \\tau + 1$$"
       ],
       "metadata": {},
       "output_type": "display_data",
       "png": "[encoded data removed]",
       "text": [
        "              1          \n",
        "             \u2500\u2500\u2500\u2500        \n",
        "             2\u22c5\u03b2\u1d62        \n",
        "   \u239b       2\u239e            \n",
        "c\u1d62\u22c5\u239d(\u03b4 - 1) \u23a0     - \u03c4 + 1"
       ]
      },
      {
       "latex": [
        "$$\\frac{\\partial{} \\theta}{{\\partial \\tau}{}} = -1$$"
       ],
       "metadata": {},
       "output_type": "display_data",
       "text": [
        "<IPython.core.display.Math at 0xb775f60>"
       ]
      },
      {
       "latex": [
        "$$\\frac{\\partial{} \\theta}{{}{\\partial \\delta}} = \\frac{c_{i} \\left(2 \\delta - 2\\right) \\left(\\left(\\delta - 1\\right)^{2}\\right)^{\\frac{1}{2 \\beta_{i}}}}{2 \\beta_{i} \\left(\\delta - 1\\right)^{2}}$$"
       ],
       "metadata": {},
       "output_type": "display_data",
       "text": [
        "<IPython.core.display.Math at 0xb7750f0>"
       ]
      },
      {
       "latex": [
        "$$\\frac{\\partial{^{2}} \\theta}{{\\partial \\tau^{2}}{}} = 0$$"
       ],
       "metadata": {},
       "output_type": "display_data",
       "text": [
        "<IPython.core.display.Math at 0x64156a0>"
       ]
      },
      {
       "latex": [
        "$$\\frac{\\partial{^{2}} \\theta}{{\\partial \\tau}{\\partial \\delta}} = 0$$"
       ],
       "metadata": {},
       "output_type": "display_data",
       "text": [
        "<IPython.core.display.Math at 0xb608668>"
       ]
      },
      {
       "latex": [
        "$$\\frac{\\partial{^{2}} \\theta}{{}{\\partial \\delta^{2}}} = \\frac{c_{i} \\left(-1 + \\frac{1}{\\beta_{i}}\\right) \\left(\\left(\\delta - 1\\right)^{2}\\right)^{\\frac{1}{2 \\beta_{i}}}}{\\beta_{i} \\left(\\delta - 1\\right)^{2}}$$"
       ],
       "metadata": {},
       "output_type": "display_data",
       "text": [
        "<IPython.core.display.Math at 0xb608668>"
       ]
      },
      {
       "latex": [
        "$$\\frac{\\partial{^{3}} \\theta}{{\\partial \\tau^{3}}{}} = 0$$"
       ],
       "metadata": {},
       "output_type": "display_data",
       "text": [
        "<IPython.core.display.Math at 0x64156a0>"
       ]
      },
      {
       "latex": [
        "$$\\frac{\\partial{^{3}} \\theta}{{\\partial \\tau^{2}}{\\partial \\delta}} = 0$$"
       ],
       "metadata": {},
       "output_type": "display_data",
       "text": [
        "<IPython.core.display.Math at 0xba40ba8>"
       ]
      },
      {
       "latex": [
        "$$\\frac{\\partial{^{3}} \\theta}{{\\partial \\tau}{\\partial \\delta^{2}}} = 0$$"
       ],
       "metadata": {},
       "output_type": "display_data",
       "text": [
        "<IPython.core.display.Math at 0xba40cc0>"
       ]
      },
      {
       "latex": [
        "$$\\frac{\\partial{^{3}} \\theta}{{}{\\partial \\delta^{3}}} = \\frac{c_{i} \\left(\\left(\\delta - 1\\right)^{2}\\right)^{\\frac{1}{2 \\beta_{i}}}}{\\beta_{i} \\left(\\delta - 1\\right)^{3}} \\left(2 - \\frac{3}{\\beta_{i}} + \\frac{1}{\\beta_{i}^{2}}\\right)$$"
       ],
       "metadata": {},
       "output_type": "display_data",
       "text": [
        "<IPython.core.display.Math at 0xba40b38>"
       ]
      },
      {
       "latex": [
        "$$\\frac{\\partial{^{4}} \\theta}{{\\partial \\tau^{4}}{}} = 0$$"
       ],
       "metadata": {},
       "output_type": "display_data",
       "text": [
        "<IPython.core.display.Math at 0xb775dd8>"
       ]
      },
      {
       "latex": [
        "$$\\frac{\\partial{^{4}} \\theta}{{\\partial \\tau^{3}}{\\partial \\delta}} = 0$$"
       ],
       "metadata": {},
       "output_type": "display_data",
       "text": [
        "<IPython.core.display.Math at 0xba3d5c0>"
       ]
      },
      {
       "latex": [
        "$$\\frac{\\partial{^{4}} \\theta}{{\\partial \\tau^{2}}{\\partial \\delta^{2}}} = 0$$"
       ],
       "metadata": {},
       "output_type": "display_data",
       "text": [
        "<IPython.core.display.Math at 0xb7882e8>"
       ]
      },
      {
       "latex": [
        "$$\\frac{\\partial{^{4}} \\theta}{{\\partial \\tau}{\\partial \\delta^{3}}} = 0$$"
       ],
       "metadata": {},
       "output_type": "display_data",
       "text": [
        "<IPython.core.display.Math at 0xb788320>"
       ]
      },
      {
       "latex": [
        "$$\\frac{\\partial{^{4}} \\theta}{{}{\\partial \\delta^{4}}} = \\frac{c_{i} \\left(\\left(\\delta - 1\\right)^{2}\\right)^{\\frac{1}{2 \\beta_{i}}}}{\\beta_{i} \\left(\\delta - 1\\right)^{4}} \\left(-6 + \\frac{11}{\\beta_{i}} - \\frac{6}{\\beta_{i}^{2}} + \\frac{1}{\\beta_{i}^{3}}\\right)$$"
       ],
       "metadata": {},
       "output_type": "display_data",
       "text": [
        "<IPython.core.display.Math at 0xb620128>"
       ]
      }
     ],
     "prompt_number": 6
    },
    {
     "cell_type": "heading",
     "level": 2,
     "metadata": {},
     "source": [
      "Derivatives of $\\psi$"
     ]
    },
    {
     "cell_type": "code",
     "collapsed": false,
     "input": [
      "e_i, f_i, tau, delta = symbols('e_i, f_i, tau, delta')\n",
      "psi = exp( -e_i*(delta-1)**2 -f_i*(tau-1)**2)\n",
      "display(psi)\n",
      "\n",
      "def deriv(idel, itau):\n",
      "    display(Math(format_deriv('\\\\psi',itau, idel)+latex( diff(diff(psi, tau, itau), delta, idel)).replace(latex(psi),'\\psi') ))\n",
      "    #print diff(diff(psi, tau, itau), delta, idel).subs(dict(e_i = 10, f_i = 275, tau= 1.3, delta = 0.9))\n",
      "\n",
      "for n in range(1,5):\n",
      "    for itau in range(0,n+1):\n",
      "        deriv(itau, n-itau)"
     ],
     "language": "python",
     "metadata": {},
     "outputs": [
      {
       "latex": [
        "$$e^{- e_{i} \\left(\\delta - 1\\right)^{2} - f_{i} \\left(\\tau - 1\\right)^{2}}$$"
       ],
       "metadata": {},
       "output_type": "display_data",
       "png": "[encoded data removed]",
       "text": [
        "             2             2\n",
        " - e\u1d62\u22c5(\u03b4 - 1)  - f\u1d62\u22c5(\u03c4 - 1) \n",
        "\u212f                           "
       ]
      },
      {
       "latex": [
        "$$\\frac{\\partial{} \\psi}{{\\partial \\tau}{}} = - f_{i} \\left(2 \\tau - 2\\right) \\psi$$"
       ],
       "metadata": {},
       "output_type": "display_data",
       "text": [
        "<IPython.core.display.Math at 0xb64e160>"
       ]
      },
      {
       "latex": [
        "$$\\frac{\\partial{} \\psi}{{}{\\partial \\delta}} = - e_{i} \\left(2 \\delta - 2\\right) \\psi$$"
       ],
       "metadata": {},
       "output_type": "display_data",
       "text": [
        "<IPython.core.display.Math at 0xb775fd0>"
       ]
      },
      {
       "latex": [
        "$$\\frac{\\partial{^{2}} \\psi}{{\\partial \\tau^{2}}{}} = 2 f_{i} \\left(2 f_{i} \\left(\\tau - 1\\right)^{2} - 1\\right) \\psi$$"
       ],
       "metadata": {},
       "output_type": "display_data",
       "text": [
        "<IPython.core.display.Math at 0xb4a8c88>"
       ]
      },
      {
       "latex": [
        "$$\\frac{\\partial{^{2}} \\psi}{{\\partial \\tau}{\\partial \\delta}} = e_{i} f_{i} \\left(2 \\delta - 2\\right) \\left(2 \\tau - 2\\right) \\psi$$"
       ],
       "metadata": {},
       "output_type": "display_data",
       "text": [
        "<IPython.core.display.Math at 0xb788748>"
       ]
      },
      {
       "latex": [
        "$$\\frac{\\partial{^{2}} \\psi}{{}{\\partial \\delta^{2}}} = 2 e_{i} \\left(2 e_{i} \\left(\\delta - 1\\right)^{2} - 1\\right) \\psi$$"
       ],
       "metadata": {},
       "output_type": "display_data",
       "text": [
        "<IPython.core.display.Math at 0xba40a58>"
       ]
      },
      {
       "latex": [
        "$$\\frac{\\partial{^{3}} \\psi}{{\\partial \\tau^{3}}{}} = 4 f_{i}^{2} \\left(\\tau - 1\\right) \\left(- 2 f_{i} \\left(\\tau - 1\\right)^{2} + 3\\right) \\psi$$"
       ],
       "metadata": {},
       "output_type": "display_data",
       "text": [
        "<IPython.core.display.Math at 0xb775f28>"
       ]
      },
      {
       "latex": [
        "$$\\frac{\\partial{^{3}} \\psi}{{\\partial \\tau^{2}}{\\partial \\delta}} = - 2 e_{i} f_{i} \\left(2 \\delta - 2\\right) \\left(2 f_{i} \\left(\\tau - 1\\right)^{2} - 1\\right) \\psi$$"
       ],
       "metadata": {},
       "output_type": "display_data",
       "text": [
        "<IPython.core.display.Math at 0xba457b8>"
       ]
      },
      {
       "latex": [
        "$$\\frac{\\partial{^{3}} \\psi}{{\\partial \\tau}{\\partial \\delta^{2}}} = 4 e_{i} f_{i} \\left(\\tau - 1\\right) \\left(- 2 e_{i} \\left(\\delta - 1\\right)^{2} + 1\\right) \\psi$$"
       ],
       "metadata": {},
       "output_type": "display_data",
       "text": [
        "<IPython.core.display.Math at 0xb64e160>"
       ]
      },
      {
       "latex": [
        "$$\\frac{\\partial{^{3}} \\psi}{{}{\\partial \\delta^{3}}} = 4 e_{i}^{2} \\left(\\delta - 1\\right) \\left(- 2 e_{i} \\left(\\delta - 1\\right)^{2} + 3\\right) \\psi$$"
       ],
       "metadata": {},
       "output_type": "display_data",
       "text": [
        "<IPython.core.display.Math at 0xbad66d8>"
       ]
      },
      {
       "latex": [
        "$$\\frac{\\partial{^{4}} \\psi}{{\\partial \\tau^{4}}{}} = 4 f_{i}^{2} \\left(4 f_{i}^{2} \\left(\\tau - 1\\right)^{4} - 12 f_{i} \\left(\\tau - 1\\right)^{2} + 3\\right) \\psi$$"
       ],
       "metadata": {},
       "output_type": "display_data",
       "text": [
        "<IPython.core.display.Math at 0xbad6828>"
       ]
      },
      {
       "latex": [
        "$$\\frac{\\partial{^{4}} \\psi}{{\\partial \\tau^{3}}{\\partial \\delta}} = - 4 e_{i} f_{i}^{2} \\left(2 \\delta - 2\\right) \\left(\\tau - 1\\right) \\left(- 2 f_{i} \\left(\\tau - 1\\right)^{2} + 3\\right) \\psi$$"
       ],
       "metadata": {},
       "output_type": "display_data",
       "text": [
        "<IPython.core.display.Math at 0xb788390>"
       ]
      },
      {
       "latex": [
        "$$\\frac{\\partial{^{4}} \\psi}{{\\partial \\tau^{2}}{\\partial \\delta^{2}}} = 4 e_{i} f_{i} \\left(2 e_{i} \\left(\\delta - 1\\right)^{2} - 1\\right) \\left(2 f_{i} \\left(\\tau - 1\\right)^{2} - 1\\right) \\psi$$"
       ],
       "metadata": {},
       "output_type": "display_data",
       "text": [
        "<IPython.core.display.Math at 0xb4a8c88>"
       ]
      },
      {
       "latex": [
        "$$\\frac{\\partial{^{4}} \\psi}{{\\partial \\tau}{\\partial \\delta^{3}}} = 8 e_{i}^{2} f_{i} \\left(\\delta - 1\\right) \\left(\\tau - 1\\right) \\left(2 e_{i} \\left(\\delta - 1\\right)^{2} - 3\\right) \\psi$$"
       ],
       "metadata": {},
       "output_type": "display_data",
       "text": [
        "<IPython.core.display.Math at 0xb64e160>"
       ]
      },
      {
       "latex": [
        "$$\\frac{\\partial{^{4}} \\psi}{{}{\\partial \\delta^{4}}} = 4 e_{i}^{2} \\left(4 e_{i}^{2} \\left(\\delta - 1\\right)^{4} - 12 e_{i} \\left(\\delta - 1\\right)^{2} + 3\\right) \\psi$$"
       ],
       "metadata": {},
       "output_type": "display_data",
       "text": [
        "<IPython.core.display.Math at 0xb788390>"
       ]
      }
     ],
     "prompt_number": 7
    },
    {
     "cell_type": "heading",
     "level": 2,
     "metadata": {},
     "source": [
      "Derivatives of $\\alpha_r$"
     ]
    },
    {
     "cell_type": "code",
     "collapsed": false,
     "input": [
      "n_i, tau, delta = symbols('n_i, tau, delta')\n",
      "Delta_bi = symbols('Delta_bi', cls=Function)(tau, delta)\n",
      "psi = symbols('psi', cls=Function)(tau, delta)\n",
      "alphar = n_i*delta*Delta_bi*psi\n",
      "display(alphar)\n",
      "\n",
      "def collector(a):\n",
      "    return collect(a, Delta_bi)\n",
      "    \n",
      "def deriv(idel, itau):\n",
      "    dd = diff(diff(alphar, tau, itau), delta, idel)\n",
      "    dd = simplify(dd)\n",
      "    dd = use(dd, expand, 2)\n",
      "    display(Math(format_deriv('\\\\alpha^{{r}}_{{NA,i}}',itau,idel)+latex(dd).replace(latex(Delta_bi),'\\Delta^{b_i}') ))\n",
      "\n",
      "for n in range(1,5):\n",
      "    for itau in range(0,n+1):\n",
      "        deriv(itau, n-itau)"
     ],
     "language": "python",
     "metadata": {},
     "outputs": [
      {
       "latex": [
        "$$\\delta n_{i} \\Delta_{bi}{\\left (\\tau,\\delta \\right )} \\psi{\\left (\\tau,\\delta \\right )}$$"
       ],
       "metadata": {},
       "output_type": "display_data",
       "png": "[encoded data removed]",
       "text": [
        "\u03b4\u22c5n\u1d62\u22c5\u0394_bi(\u03c4, \u03b4)\u22c5\u03c8(\u03c4, \u03b4)"
       ]
      },
      {
       "latex": [
        "$$\\frac{\\partial{} \\alpha^{{r}}_{{NA,i}}}{{\\partial \\tau}{}} = \\delta n_{i} \\left(\\Delta^{b_i} \\frac{\\partial}{\\partial \\tau} \\psi{\\left (\\tau,\\delta \\right )} + \\psi{\\left (\\tau,\\delta \\right )} \\frac{\\partial}{\\partial \\tau} \\Delta^{b_i}\\right)$$"
       ],
       "metadata": {},
       "output_type": "display_data",
       "text": [
        "<IPython.core.display.Math at 0xbad6358>"
       ]
      },
      {
       "latex": [
        "$$\\frac{\\partial{} \\alpha^{{r}}_{{NA,i}}}{{}{\\partial \\delta}} = n_{i} \\left(\\delta \\Delta^{b_i} \\frac{\\partial}{\\partial \\delta} \\psi{\\left (\\tau,\\delta \\right )} + \\delta \\psi{\\left (\\tau,\\delta \\right )} \\frac{\\partial}{\\partial \\delta} \\Delta^{b_i} + \\Delta^{b_i} \\psi{\\left (\\tau,\\delta \\right )}\\right)$$"
       ],
       "metadata": {},
       "output_type": "display_data",
       "text": [
        "<IPython.core.display.Math at 0xbb00d30>"
       ]
      },
      {
       "latex": [
        "$$\\frac{\\partial{^{2}} \\alpha^{{r}}_{{NA,i}}}{{\\partial \\tau^{2}}{}} = \\delta n_{i} \\left(\\Delta^{b_i} \\frac{\\partial^{2}}{\\partial \\tau^{2}}  \\psi{\\left (\\tau,\\delta \\right )} + \\psi{\\left (\\tau,\\delta \\right )} \\frac{\\partial^{2}}{\\partial \\tau^{2}}  \\Delta^{b_i} + 2 \\frac{\\partial}{\\partial \\tau} \\Delta^{b_i} \\frac{\\partial}{\\partial \\tau} \\psi{\\left (\\tau,\\delta \\right )}\\right)$$"
       ],
       "metadata": {},
       "output_type": "display_data",
       "text": [
        "<IPython.core.display.Math at 0xbb55860>"
       ]
      },
      {
       "latex": [
        "$$\\frac{\\partial{^{2}} \\alpha^{{r}}_{{NA,i}}}{{\\partial \\tau}{\\partial \\delta}} = n_{i} \\left(\\delta \\Delta^{b_i} \\frac{\\partial^{2}}{\\partial \\delta\\partial \\tau}  \\psi{\\left (\\tau,\\delta \\right )} + \\delta \\psi{\\left (\\tau,\\delta \\right )} \\frac{\\partial^{2}}{\\partial \\delta\\partial \\tau}  \\Delta^{b_i} + \\delta \\frac{\\partial}{\\partial \\delta} \\Delta^{b_i} \\frac{\\partial}{\\partial \\tau} \\psi{\\left (\\tau,\\delta \\right )} + \\delta \\frac{\\partial}{\\partial \\tau} \\Delta^{b_i} \\frac{\\partial}{\\partial \\delta} \\psi{\\left (\\tau,\\delta \\right )} + \\Delta^{b_i} \\frac{\\partial}{\\partial \\tau} \\psi{\\left (\\tau,\\delta \\right )} + \\psi{\\left (\\tau,\\delta \\right )} \\frac{\\partial}{\\partial \\tau} \\Delta^{b_i}\\right)$$"
       ],
       "metadata": {},
       "output_type": "display_data",
       "text": [
        "<IPython.core.display.Math at 0xb775f28>"
       ]
      },
      {
       "latex": [
        "$$\\frac{\\partial{^{2}} \\alpha^{{r}}_{{NA,i}}}{{}{\\partial \\delta^{2}}} = n_{i} \\left(\\delta \\Delta^{b_i} \\frac{\\partial^{2}}{\\partial \\delta^{2}}  \\psi{\\left (\\tau,\\delta \\right )} + \\delta \\psi{\\left (\\tau,\\delta \\right )} \\frac{\\partial^{2}}{\\partial \\delta^{2}}  \\Delta^{b_i} + 2 \\delta \\frac{\\partial}{\\partial \\delta} \\Delta^{b_i} \\frac{\\partial}{\\partial \\delta} \\psi{\\left (\\tau,\\delta \\right )} + 2 \\Delta^{b_i} \\frac{\\partial}{\\partial \\delta} \\psi{\\left (\\tau,\\delta \\right )} + 2 \\psi{\\left (\\tau,\\delta \\right )} \\frac{\\partial}{\\partial \\delta} \\Delta^{b_i}\\right)$$"
       ],
       "metadata": {},
       "output_type": "display_data",
       "text": [
        "<IPython.core.display.Math at 0xbb00ac8>"
       ]
      },
      {
       "latex": [
        "$$\\frac{\\partial{^{3}} \\alpha^{{r}}_{{NA,i}}}{{\\partial \\tau^{3}}{}} = \\delta n_{i} \\left(\\Delta^{b_i} \\frac{\\partial^{3}}{\\partial \\tau^{3}}  \\psi{\\left (\\tau,\\delta \\right )} + \\psi{\\left (\\tau,\\delta \\right )} \\frac{\\partial^{3}}{\\partial \\tau^{3}}  \\Delta^{b_i} + 3 \\frac{\\partial}{\\partial \\tau} \\Delta^{b_i} \\frac{\\partial^{2}}{\\partial \\tau^{2}}  \\psi{\\left (\\tau,\\delta \\right )} + 3 \\frac{\\partial}{\\partial \\tau} \\psi{\\left (\\tau,\\delta \\right )} \\frac{\\partial^{2}}{\\partial \\tau^{2}}  \\Delta^{b_i}\\right)$$"
       ],
       "metadata": {},
       "output_type": "display_data",
       "text": [
        "<IPython.core.display.Math at 0xbb55588>"
       ]
      },
      {
       "latex": [
        "$$\\frac{\\partial{^{3}} \\alpha^{{r}}_{{NA,i}}}{{\\partial \\tau^{2}}{\\partial \\delta}} = n_{i} \\left(\\delta \\Delta^{b_i} \\frac{\\partial^{3}}{\\partial \\delta\\partial \\tau^{2}}  \\psi{\\left (\\tau,\\delta \\right )} + \\delta \\psi{\\left (\\tau,\\delta \\right )} \\frac{\\partial^{3}}{\\partial \\delta\\partial \\tau^{2}}  \\Delta^{b_i} + \\delta \\frac{\\partial}{\\partial \\delta} \\Delta^{b_i} \\frac{\\partial^{2}}{\\partial \\tau^{2}}  \\psi{\\left (\\tau,\\delta \\right )} + 2 \\delta \\frac{\\partial}{\\partial \\tau} \\Delta^{b_i} \\frac{\\partial^{2}}{\\partial \\delta\\partial \\tau}  \\psi{\\left (\\tau,\\delta \\right )} + \\delta \\frac{\\partial}{\\partial \\delta} \\psi{\\left (\\tau,\\delta \\right )} \\frac{\\partial^{2}}{\\partial \\tau^{2}}  \\Delta^{b_i} + 2 \\delta \\frac{\\partial}{\\partial \\tau} \\psi{\\left (\\tau,\\delta \\right )} \\frac{\\partial^{2}}{\\partial \\delta\\partial \\tau}  \\Delta^{b_i} + \\Delta^{b_i} \\frac{\\partial^{2}}{\\partial \\tau^{2}}  \\psi{\\left (\\tau,\\delta \\right )} + \\psi{\\left (\\tau,\\delta \\right )} \\frac{\\partial^{2}}{\\partial \\tau^{2}}  \\Delta^{b_i} + 2 \\frac{\\partial}{\\partial \\tau} \\Delta^{b_i} \\frac{\\partial}{\\partial \\tau} \\psi{\\left (\\tau,\\delta \\right )}\\right)$$"
       ],
       "metadata": {},
       "output_type": "display_data",
       "text": [
        "<IPython.core.display.Math at 0xbb5a438>"
       ]
      },
      {
       "latex": [
        "$$\\frac{\\partial{^{3}} \\alpha^{{r}}_{{NA,i}}}{{\\partial \\tau}{\\partial \\delta^{2}}} = n_{i} \\left(\\delta \\Delta^{b_i} \\frac{\\partial^{3}}{\\partial \\delta^{2}\\partial \\tau}  \\psi{\\left (\\tau,\\delta \\right )} + \\delta \\psi{\\left (\\tau,\\delta \\right )} \\frac{\\partial^{3}}{\\partial \\delta^{2}\\partial \\tau}  \\Delta^{b_i} + 2 \\delta \\frac{\\partial}{\\partial \\delta} \\Delta^{b_i} \\frac{\\partial^{2}}{\\partial \\delta\\partial \\tau}  \\psi{\\left (\\tau,\\delta \\right )} + \\delta \\frac{\\partial}{\\partial \\tau} \\Delta^{b_i} \\frac{\\partial^{2}}{\\partial \\delta^{2}}  \\psi{\\left (\\tau,\\delta \\right )} + 2 \\delta \\frac{\\partial}{\\partial \\delta} \\psi{\\left (\\tau,\\delta \\right )} \\frac{\\partial^{2}}{\\partial \\delta\\partial \\tau}  \\Delta^{b_i} + \\delta \\frac{\\partial}{\\partial \\tau} \\psi{\\left (\\tau,\\delta \\right )} \\frac{\\partial^{2}}{\\partial \\delta^{2}}  \\Delta^{b_i} + 2 \\Delta^{b_i} \\frac{\\partial^{2}}{\\partial \\delta\\partial \\tau}  \\psi{\\left (\\tau,\\delta \\right )} + 2 \\psi{\\left (\\tau,\\delta \\right )} \\frac{\\partial^{2}}{\\partial \\delta\\partial \\tau}  \\Delta^{b_i} + 2 \\frac{\\partial}{\\partial \\delta} \\Delta^{b_i} \\frac{\\partial}{\\partial \\tau} \\psi{\\left (\\tau,\\delta \\right )} + 2 \\frac{\\partial}{\\partial \\tau} \\Delta^{b_i} \\frac{\\partial}{\\partial \\delta} \\psi{\\left (\\tau,\\delta \\right )}\\right)$$"
       ],
       "metadata": {},
       "output_type": "display_data",
       "text": [
        "<IPython.core.display.Math at 0xbb55588>"
       ]
      },
      {
       "latex": [
        "$$\\frac{\\partial{^{3}} \\alpha^{{r}}_{{NA,i}}}{{}{\\partial \\delta^{3}}} = n_{i} \\left(\\delta \\Delta^{b_i} \\frac{\\partial^{3}}{\\partial \\delta^{3}}  \\psi{\\left (\\tau,\\delta \\right )} + \\delta \\psi{\\left (\\tau,\\delta \\right )} \\frac{\\partial^{3}}{\\partial \\delta^{3}}  \\Delta^{b_i} + 3 \\delta \\frac{\\partial}{\\partial \\delta} \\Delta^{b_i} \\frac{\\partial^{2}}{\\partial \\delta^{2}}  \\psi{\\left (\\tau,\\delta \\right )} + 3 \\delta \\frac{\\partial}{\\partial \\delta} \\psi{\\left (\\tau,\\delta \\right )} \\frac{\\partial^{2}}{\\partial \\delta^{2}}  \\Delta^{b_i} + 3 \\Delta^{b_i} \\frac{\\partial^{2}}{\\partial \\delta^{2}}  \\psi{\\left (\\tau,\\delta \\right )} + 3 \\psi{\\left (\\tau,\\delta \\right )} \\frac{\\partial^{2}}{\\partial \\delta^{2}}  \\Delta^{b_i} + 6 \\frac{\\partial}{\\partial \\delta} \\Delta^{b_i} \\frac{\\partial}{\\partial \\delta} \\psi{\\left (\\tau,\\delta \\right )}\\right)$$"
       ],
       "metadata": {},
       "output_type": "display_data",
       "text": [
        "<IPython.core.display.Math at 0xbb5aa90>"
       ]
      },
      {
       "latex": [
        "$$\\frac{\\partial{^{4}} \\alpha^{{r}}_{{NA,i}}}{{\\partial \\tau^{4}}{}} = \\delta n_{i} \\left(\\Delta^{b_i} \\frac{\\partial^{4}}{\\partial \\tau^{4}}  \\psi{\\left (\\tau,\\delta \\right )} + \\psi{\\left (\\tau,\\delta \\right )} \\frac{\\partial^{4}}{\\partial \\tau^{4}}  \\Delta^{b_i} + 4 \\frac{\\partial}{\\partial \\tau} \\Delta^{b_i} \\frac{\\partial^{3}}{\\partial \\tau^{3}}  \\psi{\\left (\\tau,\\delta \\right )} + 4 \\frac{\\partial}{\\partial \\tau} \\psi{\\left (\\tau,\\delta \\right )} \\frac{\\partial^{3}}{\\partial \\tau^{3}}  \\Delta^{b_i} + 6 \\frac{\\partial^{2}}{\\partial \\tau^{2}}  \\Delta^{b_i} \\frac{\\partial^{2}}{\\partial \\tau^{2}}  \\psi{\\left (\\tau,\\delta \\right )}\\right)$$"
       ],
       "metadata": {},
       "output_type": "display_data",
       "text": [
        "<IPython.core.display.Math at 0xba45e10>"
       ]
      },
      {
       "latex": [
        "$$\\frac{\\partial{^{4}} \\alpha^{{r}}_{{NA,i}}}{{\\partial \\tau^{3}}{\\partial \\delta}} = n_{i} \\left(\\delta \\Delta^{b_i} \\frac{\\partial^{4}}{\\partial \\delta\\partial \\tau^{3}}  \\psi{\\left (\\tau,\\delta \\right )} + \\delta \\psi{\\left (\\tau,\\delta \\right )} \\frac{\\partial^{4}}{\\partial \\delta\\partial \\tau^{3}}  \\Delta^{b_i} + \\delta \\frac{\\partial}{\\partial \\delta} \\Delta^{b_i} \\frac{\\partial^{3}}{\\partial \\tau^{3}}  \\psi{\\left (\\tau,\\delta \\right )} + 3 \\delta \\frac{\\partial}{\\partial \\tau} \\Delta^{b_i} \\frac{\\partial^{3}}{\\partial \\delta\\partial \\tau^{2}}  \\psi{\\left (\\tau,\\delta \\right )} + \\delta \\frac{\\partial}{\\partial \\delta} \\psi{\\left (\\tau,\\delta \\right )} \\frac{\\partial^{3}}{\\partial \\tau^{3}}  \\Delta^{b_i} + 3 \\delta \\frac{\\partial}{\\partial \\tau} \\psi{\\left (\\tau,\\delta \\right )} \\frac{\\partial^{3}}{\\partial \\delta\\partial \\tau^{2}}  \\Delta^{b_i} + 3 \\delta \\frac{\\partial^{2}}{\\partial \\delta\\partial \\tau}  \\Delta^{b_i} \\frac{\\partial^{2}}{\\partial \\tau^{2}}  \\psi{\\left (\\tau,\\delta \\right )} + 3 \\delta \\frac{\\partial^{2}}{\\partial \\tau^{2}}  \\Delta^{b_i} \\frac{\\partial^{2}}{\\partial \\delta\\partial \\tau}  \\psi{\\left (\\tau,\\delta \\right )} + \\Delta^{b_i} \\frac{\\partial^{3}}{\\partial \\tau^{3}}  \\psi{\\left (\\tau,\\delta \\right )} + \\psi{\\left (\\tau,\\delta \\right )} \\frac{\\partial^{3}}{\\partial \\tau^{3}}  \\Delta^{b_i} + 3 \\frac{\\partial}{\\partial \\tau} \\Delta^{b_i} \\frac{\\partial^{2}}{\\partial \\tau^{2}}  \\psi{\\left (\\tau,\\delta \\right )} + 3 \\frac{\\partial}{\\partial \\tau} \\psi{\\left (\\tau,\\delta \\right )} \\frac{\\partial^{2}}{\\partial \\tau^{2}}  \\Delta^{b_i}\\right)$$"
       ],
       "metadata": {},
       "output_type": "display_data",
       "text": [
        "<IPython.core.display.Math at 0xbb00e10>"
       ]
      },
      {
       "latex": [
        "$$\\frac{\\partial{^{4}} \\alpha^{{r}}_{{NA,i}}}{{\\partial \\tau^{2}}{\\partial \\delta^{2}}} = n_{i} \\left(\\delta \\Delta^{b_i} \\frac{\\partial^{4}}{\\partial \\delta^{2}\\partial \\tau^{2}}  \\psi{\\left (\\tau,\\delta \\right )} + \\delta \\psi{\\left (\\tau,\\delta \\right )} \\frac{\\partial^{4}}{\\partial \\delta^{2}\\partial \\tau^{2}}  \\Delta^{b_i} + 2 \\delta \\frac{\\partial}{\\partial \\delta} \\Delta^{b_i} \\frac{\\partial^{3}}{\\partial \\delta\\partial \\tau^{2}}  \\psi{\\left (\\tau,\\delta \\right )} + 2 \\delta \\frac{\\partial}{\\partial \\tau} \\Delta^{b_i} \\frac{\\partial^{3}}{\\partial \\delta^{2}\\partial \\tau}  \\psi{\\left (\\tau,\\delta \\right )} + 2 \\delta \\frac{\\partial}{\\partial \\delta} \\psi{\\left (\\tau,\\delta \\right )} \\frac{\\partial^{3}}{\\partial \\delta\\partial \\tau^{2}}  \\Delta^{b_i} + 2 \\delta \\frac{\\partial}{\\partial \\tau} \\psi{\\left (\\tau,\\delta \\right )} \\frac{\\partial^{3}}{\\partial \\delta^{2}\\partial \\tau}  \\Delta^{b_i} + \\delta \\frac{\\partial^{2}}{\\partial \\delta^{2}}  \\Delta^{b_i} \\frac{\\partial^{2}}{\\partial \\tau^{2}}  \\psi{\\left (\\tau,\\delta \\right )} + 4 \\delta \\frac{\\partial^{2}}{\\partial \\delta\\partial \\tau}  \\Delta^{b_i} \\frac{\\partial^{2}}{\\partial \\delta\\partial \\tau}  \\psi{\\left (\\tau,\\delta \\right )} + \\delta \\frac{\\partial^{2}}{\\partial \\tau^{2}}  \\Delta^{b_i} \\frac{\\partial^{2}}{\\partial \\delta^{2}}  \\psi{\\left (\\tau,\\delta \\right )} + 2 \\Delta^{b_i} \\frac{\\partial^{3}}{\\partial \\delta\\partial \\tau^{2}}  \\psi{\\left (\\tau,\\delta \\right )} + 2 \\psi{\\left (\\tau,\\delta \\right )} \\frac{\\partial^{3}}{\\partial \\delta\\partial \\tau^{2}}  \\Delta^{b_i} + 2 \\frac{\\partial}{\\partial \\delta} \\Delta^{b_i} \\frac{\\partial^{2}}{\\partial \\tau^{2}}  \\psi{\\left (\\tau,\\delta \\right )} + 4 \\frac{\\partial}{\\partial \\tau} \\Delta^{b_i} \\frac{\\partial^{2}}{\\partial \\delta\\partial \\tau}  \\psi{\\left (\\tau,\\delta \\right )} + 2 \\frac{\\partial}{\\partial \\delta} \\psi{\\left (\\tau,\\delta \\right )} \\frac{\\partial^{2}}{\\partial \\tau^{2}}  \\Delta^{b_i} + 4 \\frac{\\partial}{\\partial \\tau} \\psi{\\left (\\tau,\\delta \\right )} \\frac{\\partial^{2}}{\\partial \\delta\\partial \\tau}  \\Delta^{b_i}\\right)$$"
       ],
       "metadata": {},
       "output_type": "display_data",
       "text": [
        "<IPython.core.display.Math at 0xbb0a358>"
       ]
      },
      {
       "latex": [
        "$$\\frac{\\partial{^{4}} \\alpha^{{r}}_{{NA,i}}}{{\\partial \\tau}{\\partial \\delta^{3}}} = n_{i} \\left(\\delta \\Delta^{b_i} \\frac{\\partial^{4}}{\\partial \\delta^{3}\\partial \\tau}  \\psi{\\left (\\tau,\\delta \\right )} + \\delta \\psi{\\left (\\tau,\\delta \\right )} \\frac{\\partial^{4}}{\\partial \\delta^{3}\\partial \\tau}  \\Delta^{b_i} + 3 \\delta \\frac{\\partial}{\\partial \\delta} \\Delta^{b_i} \\frac{\\partial^{3}}{\\partial \\delta^{2}\\partial \\tau}  \\psi{\\left (\\tau,\\delta \\right )} + \\delta \\frac{\\partial}{\\partial \\tau} \\Delta^{b_i} \\frac{\\partial^{3}}{\\partial \\delta^{3}}  \\psi{\\left (\\tau,\\delta \\right )} + 3 \\delta \\frac{\\partial}{\\partial \\delta} \\psi{\\left (\\tau,\\delta \\right )} \\frac{\\partial^{3}}{\\partial \\delta^{2}\\partial \\tau}  \\Delta^{b_i} + \\delta \\frac{\\partial}{\\partial \\tau} \\psi{\\left (\\tau,\\delta \\right )} \\frac{\\partial^{3}}{\\partial \\delta^{3}}  \\Delta^{b_i} + 3 \\delta \\frac{\\partial^{2}}{\\partial \\delta^{2}}  \\Delta^{b_i} \\frac{\\partial^{2}}{\\partial \\delta\\partial \\tau}  \\psi{\\left (\\tau,\\delta \\right )} + 3 \\delta \\frac{\\partial^{2}}{\\partial \\delta\\partial \\tau}  \\Delta^{b_i} \\frac{\\partial^{2}}{\\partial \\delta^{2}}  \\psi{\\left (\\tau,\\delta \\right )} + 3 \\Delta^{b_i} \\frac{\\partial^{3}}{\\partial \\delta^{2}\\partial \\tau}  \\psi{\\left (\\tau,\\delta \\right )} + 3 \\psi{\\left (\\tau,\\delta \\right )} \\frac{\\partial^{3}}{\\partial \\delta^{2}\\partial \\tau}  \\Delta^{b_i} + 6 \\frac{\\partial}{\\partial \\delta} \\Delta^{b_i} \\frac{\\partial^{2}}{\\partial \\delta\\partial \\tau}  \\psi{\\left (\\tau,\\delta \\right )} + 3 \\frac{\\partial}{\\partial \\tau} \\Delta^{b_i} \\frac{\\partial^{2}}{\\partial \\delta^{2}}  \\psi{\\left (\\tau,\\delta \\right )} + 6 \\frac{\\partial}{\\partial \\delta} \\psi{\\left (\\tau,\\delta \\right )} \\frac{\\partial^{2}}{\\partial \\delta\\partial \\tau}  \\Delta^{b_i} + 3 \\frac{\\partial}{\\partial \\tau} \\psi{\\left (\\tau,\\delta \\right )} \\frac{\\partial^{2}}{\\partial \\delta^{2}}  \\Delta^{b_i}\\right)$$"
       ],
       "metadata": {},
       "output_type": "display_data",
       "text": [
        "<IPython.core.display.Math at 0xbb55860>"
       ]
      },
      {
       "latex": [
        "$$\\frac{\\partial{^{4}} \\alpha^{{r}}_{{NA,i}}}{{}{\\partial \\delta^{4}}} = n_{i} \\left(\\delta \\Delta^{b_i} \\frac{\\partial^{4}}{\\partial \\delta^{4}}  \\psi{\\left (\\tau,\\delta \\right )} + \\delta \\psi{\\left (\\tau,\\delta \\right )} \\frac{\\partial^{4}}{\\partial \\delta^{4}}  \\Delta^{b_i} + 4 \\delta \\frac{\\partial}{\\partial \\delta} \\Delta^{b_i} \\frac{\\partial^{3}}{\\partial \\delta^{3}}  \\psi{\\left (\\tau,\\delta \\right )} + 4 \\delta \\frac{\\partial}{\\partial \\delta} \\psi{\\left (\\tau,\\delta \\right )} \\frac{\\partial^{3}}{\\partial \\delta^{3}}  \\Delta^{b_i} + 6 \\delta \\frac{\\partial^{2}}{\\partial \\delta^{2}}  \\Delta^{b_i} \\frac{\\partial^{2}}{\\partial \\delta^{2}}  \\psi{\\left (\\tau,\\delta \\right )} + 4 \\Delta^{b_i} \\frac{\\partial^{3}}{\\partial \\delta^{3}}  \\psi{\\left (\\tau,\\delta \\right )} + 4 \\psi{\\left (\\tau,\\delta \\right )} \\frac{\\partial^{3}}{\\partial \\delta^{3}}  \\Delta^{b_i} + 12 \\frac{\\partial}{\\partial \\delta} \\Delta^{b_i} \\frac{\\partial^{2}}{\\partial \\delta^{2}}  \\psi{\\left (\\tau,\\delta \\right )} + 12 \\frac{\\partial}{\\partial \\delta} \\psi{\\left (\\tau,\\delta \\right )} \\frac{\\partial^{2}}{\\partial \\delta^{2}}  \\Delta^{b_i}\\right)$$"
       ],
       "metadata": {},
       "output_type": "display_data",
       "text": [
        "<IPython.core.display.Math at 0xbb0a588>"
       ]
      }
     ],
     "prompt_number": 8
    },
    {
     "cell_type": "heading",
     "level": 2,
     "metadata": {},
     "source": [
      "Derivatives of $\\Delta^{b_i}$"
     ]
    },
    {
     "cell_type": "code",
     "collapsed": false,
     "input": [
      "b_i, tau, delta = symbols('b_i, tau, delta')\n",
      "Delta = symbols('Delta', cls=Function)(tau, delta)\n",
      "display(Delta**b_i)\n",
      "\n",
      "c_i, beta_i, a_i, d_i = symbols('c_i, beta_i, a_i, d_i')\n",
      "_theta = (1-tau) + c_i*((delta-1)**2)**(1/(2*beta_i))\n",
      "_Delta = _theta**2+d_i*((delta-1)**2)**a_i\n",
      "#print _Delta\n",
      "\n",
      "def deriv(idel, itau):\n",
      "    dd = diff(diff(Delta**b_i, tau, itau), delta, idel)\n",
      "    dd = use(dd, simplify, 2)\n",
      "    dd = use(dd, factor, 2)\n",
      "    \n",
      "    display(Math(format_deriv('\\\\Delta^{{b_i}}', itau, idel)+latex(simplify(dd)) ))\n",
      "    \n",
      "    el = diff(diff(Delta**b_i, tau, itau), delta, idel)\n",
      "    args = dict(c_i = 0.7, beta_i = 0.3, d_i = 0.3, a_i = 3.5, b_i = 0.875, tau = 1.3, delta = 0.9) \n",
      "    for n in range(1,5):\n",
      "        for _itau in range(0,n+1):\n",
      "            s = diff(diff(_Delta, tau, _itau), delta, n-_itau).subs(args)\n",
      "            el = el.replace(diff(diff(Delta, tau, _itau), delta, n-_itau), s)\n",
      "    el = el.subs(Delta, _Delta)\n",
      "    #print el.subs(args).evalf()\n",
      "\n",
      "for n in range(1,5):\n",
      "    for itau in range(0,n+1):\n",
      "        deriv(itau, n-itau)"
     ],
     "language": "python",
     "metadata": {},
     "outputs": [
      {
       "latex": [
        "$$\\Delta^{b_{i}}{\\left (\\tau,\\delta \\right )}$$"
       ],
       "metadata": {},
       "output_type": "display_data",
       "png": "[encoded data removed]",
       "text": [
        " b\u1d62      \n",
        "\u0394  (\u03c4, \u03b4)"
       ]
      },
      {
       "latex": [
        "$$\\frac{\\partial{} \\Delta^{{b_i}}}{{\\partial \\tau}{}} = b_{i} \\Delta^{b_{i} - 1}{\\left (\\tau,\\delta \\right )} \\frac{\\partial}{\\partial \\tau} \\Delta{\\left (\\tau,\\delta \\right )}$$"
       ],
       "metadata": {},
       "output_type": "display_data",
       "text": [
        "<IPython.core.display.Math at 0xba45e10>"
       ]
      },
      {
       "latex": [
        "$$\\frac{\\partial{} \\Delta^{{b_i}}}{{}{\\partial \\delta}} = b_{i} \\Delta^{b_{i} - 1}{\\left (\\tau,\\delta \\right )} \\frac{\\partial}{\\partial \\delta} \\Delta{\\left (\\tau,\\delta \\right )}$$"
       ],
       "metadata": {},
       "output_type": "display_data",
       "text": [
        "<IPython.core.display.Math at 0xbb00e10>"
       ]
      },
      {
       "latex": [
        "$$\\frac{\\partial{^{2}} \\Delta^{{b_i}}}{{\\partial \\tau^{2}}{}} = b_{i} \\left(b_{i} \\left(\\frac{\\partial}{\\partial \\tau} \\Delta{\\left (\\tau,\\delta \\right )}\\right)^{2} + \\Delta{\\left (\\tau,\\delta \\right )} \\frac{\\partial^{2}}{\\partial \\tau^{2}}  \\Delta{\\left (\\tau,\\delta \\right )} - \\left(\\frac{\\partial}{\\partial \\tau} \\Delta{\\left (\\tau,\\delta \\right )}\\right)^{2}\\right) \\Delta^{b_{i} - 2}{\\left (\\tau,\\delta \\right )}$$"
       ],
       "metadata": {},
       "output_type": "display_data",
       "text": [
        "<IPython.core.display.Math at 0x413a550>"
       ]
      },
      {
       "latex": [
        "$$\\frac{\\partial{^{2}} \\Delta^{{b_i}}}{{\\partial \\tau}{\\partial \\delta}} = \\frac{b_{i}}{\\Delta^{3}{\\left (\\tau,\\delta \\right )}} \\left(\\left(b_{i} - 1\\right) \\Delta^{b_{i} + 1}{\\left (\\tau,\\delta \\right )} \\frac{\\partial}{\\partial \\delta} \\Delta{\\left (\\tau,\\delta \\right )} \\frac{\\partial}{\\partial \\tau} \\Delta{\\left (\\tau,\\delta \\right )} + \\Delta^{b_{i} + 2}{\\left (\\tau,\\delta \\right )} \\frac{\\partial^{2}}{\\partial \\delta\\partial \\tau}  \\Delta{\\left (\\tau,\\delta \\right )}\\right)$$"
       ],
       "metadata": {},
       "output_type": "display_data",
       "text": [
        "<IPython.core.display.Math at 0xbb0aa58>"
       ]
      },
      {
       "latex": [
        "$$\\frac{\\partial{^{2}} \\Delta^{{b_i}}}{{}{\\partial \\delta^{2}}} = b_{i} \\left(b_{i} \\left(\\frac{\\partial}{\\partial \\delta} \\Delta{\\left (\\tau,\\delta \\right )}\\right)^{2} + \\Delta{\\left (\\tau,\\delta \\right )} \\frac{\\partial^{2}}{\\partial \\delta^{2}}  \\Delta{\\left (\\tau,\\delta \\right )} - \\left(\\frac{\\partial}{\\partial \\delta} \\Delta{\\left (\\tau,\\delta \\right )}\\right)^{2}\\right) \\Delta^{b_{i} - 2}{\\left (\\tau,\\delta \\right )}$$"
       ],
       "metadata": {},
       "output_type": "display_data",
       "text": [
        "<IPython.core.display.Math at 0xb775f28>"
       ]
      },
      {
       "latex": [
        "$$\\frac{\\partial{^{3}} \\Delta^{{b_i}}}{{\\partial \\tau^{3}}{}} = b_{i} \\left(3 \\left(b_{i} - 1\\right) \\Delta{\\left (\\tau,\\delta \\right )} \\frac{\\partial}{\\partial \\tau} \\Delta{\\left (\\tau,\\delta \\right )} \\frac{\\partial^{2}}{\\partial \\tau^{2}}  \\Delta{\\left (\\tau,\\delta \\right )} + \\left(b_{i}^{2} - 3 b_{i} + 2\\right) \\left(\\frac{\\partial}{\\partial \\tau} \\Delta{\\left (\\tau,\\delta \\right )}\\right)^{3} + \\Delta^{2}{\\left (\\tau,\\delta \\right )} \\frac{\\partial^{3}}{\\partial \\tau^{3}}  \\Delta{\\left (\\tau,\\delta \\right )}\\right) \\Delta^{b_{i} - 3}{\\left (\\tau,\\delta \\right )}$$"
       ],
       "metadata": {},
       "output_type": "display_data",
       "text": [
        "<IPython.core.display.Math at 0xbb007b8>"
       ]
      },
      {
       "latex": [
        "$$\\frac{\\partial{^{3}} \\Delta^{{b_i}}}{{\\partial \\tau^{2}}{\\partial \\delta}} = b_{i} \\left(b_{i}^{2} \\frac{\\partial}{\\partial \\delta} \\Delta{\\left (\\tau,\\delta \\right )} \\left(\\frac{\\partial}{\\partial \\tau} \\Delta{\\left (\\tau,\\delta \\right )}\\right)^{2} + b_{i} \\Delta{\\left (\\tau,\\delta \\right )} \\frac{\\partial}{\\partial \\delta} \\Delta{\\left (\\tau,\\delta \\right )} \\frac{\\partial^{2}}{\\partial \\tau^{2}}  \\Delta{\\left (\\tau,\\delta \\right )} + 2 b_{i} \\Delta{\\left (\\tau,\\delta \\right )} \\frac{\\partial}{\\partial \\tau} \\Delta{\\left (\\tau,\\delta \\right )} \\frac{\\partial^{2}}{\\partial \\delta\\partial \\tau}  \\Delta{\\left (\\tau,\\delta \\right )} - 3 b_{i} \\frac{\\partial}{\\partial \\delta} \\Delta{\\left (\\tau,\\delta \\right )} \\left(\\frac{\\partial}{\\partial \\tau} \\Delta{\\left (\\tau,\\delta \\right )}\\right)^{2} + \\Delta^{2}{\\left (\\tau,\\delta \\right )} \\frac{\\partial^{3}}{\\partial \\delta\\partial \\tau^{2}}  \\Delta{\\left (\\tau,\\delta \\right )} - \\Delta{\\left (\\tau,\\delta \\right )} \\frac{\\partial}{\\partial \\delta} \\Delta{\\left (\\tau,\\delta \\right )} \\frac{\\partial^{2}}{\\partial \\tau^{2}}  \\Delta{\\left (\\tau,\\delta \\right )} - 2 \\Delta{\\left (\\tau,\\delta \\right )} \\frac{\\partial}{\\partial \\tau} \\Delta{\\left (\\tau,\\delta \\right )} \\frac{\\partial^{2}}{\\partial \\delta\\partial \\tau}  \\Delta{\\left (\\tau,\\delta \\right )} + 2 \\frac{\\partial}{\\partial \\delta} \\Delta{\\left (\\tau,\\delta \\right )} \\left(\\frac{\\partial}{\\partial \\tau} \\Delta{\\left (\\tau,\\delta \\right )}\\right)^{2}\\right) \\Delta^{b_{i} - 3}{\\left (\\tau,\\delta \\right )}$$"
       ],
       "metadata": {},
       "output_type": "display_data",
       "text": [
        "<IPython.core.display.Math at 0xbce86d8>"
       ]
      },
      {
       "latex": [
        "$$\\frac{\\partial{^{3}} \\Delta^{{b_i}}}{{\\partial \\tau}{\\partial \\delta^{2}}} = b_{i} \\left(\\left(b_{i}^{2} - 3 b_{i} + 2\\right) \\left(\\frac{\\partial}{\\partial \\delta} \\Delta{\\left (\\tau,\\delta \\right )}\\right)^{2} \\frac{\\partial}{\\partial \\tau} \\Delta{\\left (\\tau,\\delta \\right )} + \\left(2 b_{i} \\frac{\\partial}{\\partial \\delta} \\Delta{\\left (\\tau,\\delta \\right )} \\frac{\\partial^{2}}{\\partial \\delta\\partial \\tau}  \\Delta{\\left (\\tau,\\delta \\right )} + b_{i} \\frac{\\partial}{\\partial \\tau} \\Delta{\\left (\\tau,\\delta \\right )} \\frac{\\partial^{2}}{\\partial \\delta^{2}}  \\Delta{\\left (\\tau,\\delta \\right )} - 2 \\frac{\\partial}{\\partial \\delta} \\Delta{\\left (\\tau,\\delta \\right )} \\frac{\\partial^{2}}{\\partial \\delta\\partial \\tau}  \\Delta{\\left (\\tau,\\delta \\right )} - \\frac{\\partial}{\\partial \\tau} \\Delta{\\left (\\tau,\\delta \\right )} \\frac{\\partial^{2}}{\\partial \\delta^{2}}  \\Delta{\\left (\\tau,\\delta \\right )}\\right) \\Delta{\\left (\\tau,\\delta \\right )} + \\Delta^{2}{\\left (\\tau,\\delta \\right )} \\frac{\\partial^{3}}{\\partial \\delta^{2}\\partial \\tau}  \\Delta{\\left (\\tau,\\delta \\right )}\\right) \\Delta^{b_{i} - 3}{\\left (\\tau,\\delta \\right )}$$"
       ],
       "metadata": {},
       "output_type": "display_data",
       "text": [
        "<IPython.core.display.Math at 0xbae1860>"
       ]
      },
      {
       "latex": [
        "$$\\frac{\\partial{^{3}} \\Delta^{{b_i}}}{{}{\\partial \\delta^{3}}} = b_{i} \\left(3 \\left(b_{i} - 1\\right) \\Delta{\\left (\\tau,\\delta \\right )} \\frac{\\partial}{\\partial \\delta} \\Delta{\\left (\\tau,\\delta \\right )} \\frac{\\partial^{2}}{\\partial \\delta^{2}}  \\Delta{\\left (\\tau,\\delta \\right )} + \\left(b_{i}^{2} - 3 b_{i} + 2\\right) \\left(\\frac{\\partial}{\\partial \\delta} \\Delta{\\left (\\tau,\\delta \\right )}\\right)^{3} + \\Delta^{2}{\\left (\\tau,\\delta \\right )} \\frac{\\partial^{3}}{\\partial \\delta^{3}}  \\Delta{\\left (\\tau,\\delta \\right )}\\right) \\Delta^{b_{i} - 3}{\\left (\\tau,\\delta \\right )}$$"
       ],
       "metadata": {},
       "output_type": "display_data",
       "text": [
        "<IPython.core.display.Math at 0xba36f28>"
       ]
      },
      {
       "latex": [
        "$$\\frac{\\partial{^{4}} \\Delta^{{b_i}}}{{\\partial \\tau^{4}}{}} = b_{i} \\left(6 \\left(b_{i}^{2} - 3 b_{i} + 2\\right) \\Delta{\\left (\\tau,\\delta \\right )} \\left(\\frac{\\partial}{\\partial \\tau} \\Delta{\\left (\\tau,\\delta \\right )}\\right)^{2} \\frac{\\partial^{2}}{\\partial \\tau^{2}}  \\Delta{\\left (\\tau,\\delta \\right )} + \\left(b_{i}^{3} - 6 b_{i}^{2} + 11 b_{i} - 6\\right) \\left(\\frac{\\partial}{\\partial \\tau} \\Delta{\\left (\\tau,\\delta \\right )}\\right)^{4} + \\left(4 b_{i} \\frac{\\partial}{\\partial \\tau} \\Delta{\\left (\\tau,\\delta \\right )} \\frac{\\partial^{3}}{\\partial \\tau^{3}}  \\Delta{\\left (\\tau,\\delta \\right )} + 3 b_{i} \\left(\\frac{\\partial^{2}}{\\partial \\tau^{2}}  \\Delta{\\left (\\tau,\\delta \\right )}\\right)^{2} - 4 \\frac{\\partial}{\\partial \\tau} \\Delta{\\left (\\tau,\\delta \\right )} \\frac{\\partial^{3}}{\\partial \\tau^{3}}  \\Delta{\\left (\\tau,\\delta \\right )} - 3 \\left(\\frac{\\partial^{2}}{\\partial \\tau^{2}}  \\Delta{\\left (\\tau,\\delta \\right )}\\right)^{2}\\right) \\Delta^{2}{\\left (\\tau,\\delta \\right )} + \\Delta^{3}{\\left (\\tau,\\delta \\right )} \\frac{\\partial^{4}}{\\partial \\tau^{4}}  \\Delta{\\left (\\tau,\\delta \\right )}\\right) \\Delta^{b_{i} - 4}{\\left (\\tau,\\delta \\right )}$$"
       ],
       "metadata": {},
       "output_type": "display_data",
       "text": [
        "<IPython.core.display.Math at 0xba36f28>"
       ]
      },
      {
       "latex": [
        "$$\\frac{\\partial{^{4}} \\Delta^{{b_i}}}{{\\partial \\tau^{3}}{\\partial \\delta}} = b_{i} \\left(b_{i}^{3} \\frac{\\partial}{\\partial \\delta} \\Delta{\\left (\\tau,\\delta \\right )} \\left(\\frac{\\partial}{\\partial \\tau} \\Delta{\\left (\\tau,\\delta \\right )}\\right)^{3} + 3 b_{i}^{2} \\Delta{\\left (\\tau,\\delta \\right )} \\frac{\\partial}{\\partial \\delta} \\Delta{\\left (\\tau,\\delta \\right )} \\frac{\\partial}{\\partial \\tau} \\Delta{\\left (\\tau,\\delta \\right )} \\frac{\\partial^{2}}{\\partial \\tau^{2}}  \\Delta{\\left (\\tau,\\delta \\right )} + 3 b_{i}^{2} \\Delta{\\left (\\tau,\\delta \\right )} \\left(\\frac{\\partial}{\\partial \\tau} \\Delta{\\left (\\tau,\\delta \\right )}\\right)^{2} \\frac{\\partial^{2}}{\\partial \\delta\\partial \\tau}  \\Delta{\\left (\\tau,\\delta \\right )} - 6 b_{i}^{2} \\frac{\\partial}{\\partial \\delta} \\Delta{\\left (\\tau,\\delta \\right )} \\left(\\frac{\\partial}{\\partial \\tau} \\Delta{\\left (\\tau,\\delta \\right )}\\right)^{3} + b_{i} \\Delta^{2}{\\left (\\tau,\\delta \\right )} \\frac{\\partial}{\\partial \\delta} \\Delta{\\left (\\tau,\\delta \\right )} \\frac{\\partial^{3}}{\\partial \\tau^{3}}  \\Delta{\\left (\\tau,\\delta \\right )} + 3 b_{i} \\Delta^{2}{\\left (\\tau,\\delta \\right )} \\frac{\\partial}{\\partial \\tau} \\Delta{\\left (\\tau,\\delta \\right )} \\frac{\\partial^{3}}{\\partial \\delta\\partial \\tau^{2}}  \\Delta{\\left (\\tau,\\delta \\right )} + 3 b_{i} \\Delta^{2}{\\left (\\tau,\\delta \\right )} \\frac{\\partial^{2}}{\\partial \\delta\\partial \\tau}  \\Delta{\\left (\\tau,\\delta \\right )} \\frac{\\partial^{2}}{\\partial \\tau^{2}}  \\Delta{\\left (\\tau,\\delta \\right )} - 9 b_{i} \\Delta{\\left (\\tau,\\delta \\right )} \\frac{\\partial}{\\partial \\delta} \\Delta{\\left (\\tau,\\delta \\right )} \\frac{\\partial}{\\partial \\tau} \\Delta{\\left (\\tau,\\delta \\right )} \\frac{\\partial^{2}}{\\partial \\tau^{2}}  \\Delta{\\left (\\tau,\\delta \\right )} - 9 b_{i} \\Delta{\\left (\\tau,\\delta \\right )} \\left(\\frac{\\partial}{\\partial \\tau} \\Delta{\\left (\\tau,\\delta \\right )}\\right)^{2} \\frac{\\partial^{2}}{\\partial \\delta\\partial \\tau}  \\Delta{\\left (\\tau,\\delta \\right )} + 11 b_{i} \\frac{\\partial}{\\partial \\delta} \\Delta{\\left (\\tau,\\delta \\right )} \\left(\\frac{\\partial}{\\partial \\tau} \\Delta{\\left (\\tau,\\delta \\right )}\\right)^{3} + \\Delta^{3}{\\left (\\tau,\\delta \\right )} \\frac{\\partial^{4}}{\\partial \\delta\\partial \\tau^{3}}  \\Delta{\\left (\\tau,\\delta \\right )} - \\Delta^{2}{\\left (\\tau,\\delta \\right )} \\frac{\\partial}{\\partial \\delta} \\Delta{\\left (\\tau,\\delta \\right )} \\frac{\\partial^{3}}{\\partial \\tau^{3}}  \\Delta{\\left (\\tau,\\delta \\right )} - 3 \\Delta^{2}{\\left (\\tau,\\delta \\right )} \\frac{\\partial}{\\partial \\tau} \\Delta{\\left (\\tau,\\delta \\right )} \\frac{\\partial^{3}}{\\partial \\delta\\partial \\tau^{2}}  \\Delta{\\left (\\tau,\\delta \\right )} - 3 \\Delta^{2}{\\left (\\tau,\\delta \\right )} \\frac{\\partial^{2}}{\\partial \\delta\\partial \\tau}  \\Delta{\\left (\\tau,\\delta \\right )} \\frac{\\partial^{2}}{\\partial \\tau^{2}}  \\Delta{\\left (\\tau,\\delta \\right )} + 6 \\Delta{\\left (\\tau,\\delta \\right )} \\frac{\\partial}{\\partial \\delta} \\Delta{\\left (\\tau,\\delta \\right )} \\frac{\\partial}{\\partial \\tau} \\Delta{\\left (\\tau,\\delta \\right )} \\frac{\\partial^{2}}{\\partial \\tau^{2}}  \\Delta{\\left (\\tau,\\delta \\right )} + 6 \\Delta{\\left (\\tau,\\delta \\right )} \\left(\\frac{\\partial}{\\partial \\tau} \\Delta{\\left (\\tau,\\delta \\right )}\\right)^{2} \\frac{\\partial^{2}}{\\partial \\delta\\partial \\tau}  \\Delta{\\left (\\tau,\\delta \\right )} - 6 \\frac{\\partial}{\\partial \\delta} \\Delta{\\left (\\tau,\\delta \\right )} \\left(\\frac{\\partial}{\\partial \\tau} \\Delta{\\left (\\tau,\\delta \\right )}\\right)^{3}\\right) \\Delta^{b_{i} - 4}{\\left (\\tau,\\delta \\right )}$$"
       ],
       "metadata": {},
       "output_type": "display_data",
       "text": [
        "<IPython.core.display.Math at 0xbae1400>"
       ]
      },
      {
       "latex": [
        "$$\\frac{\\partial{^{4}} \\Delta^{{b_i}}}{{\\partial \\tau^{2}}{\\partial \\delta^{2}}} = b_{i} \\left(b_{i}^{3} \\left(\\frac{\\partial}{\\partial \\delta} \\Delta{\\left (\\tau,\\delta \\right )}\\right)^{2} \\left(\\frac{\\partial}{\\partial \\tau} \\Delta{\\left (\\tau,\\delta \\right )}\\right)^{2} + b_{i}^{2} \\Delta{\\left (\\tau,\\delta \\right )} \\left(\\frac{\\partial}{\\partial \\delta} \\Delta{\\left (\\tau,\\delta \\right )}\\right)^{2} \\frac{\\partial^{2}}{\\partial \\tau^{2}}  \\Delta{\\left (\\tau,\\delta \\right )} + 4 b_{i}^{2} \\Delta{\\left (\\tau,\\delta \\right )} \\frac{\\partial}{\\partial \\delta} \\Delta{\\left (\\tau,\\delta \\right )} \\frac{\\partial}{\\partial \\tau} \\Delta{\\left (\\tau,\\delta \\right )} \\frac{\\partial^{2}}{\\partial \\delta\\partial \\tau}  \\Delta{\\left (\\tau,\\delta \\right )} + b_{i}^{2} \\Delta{\\left (\\tau,\\delta \\right )} \\left(\\frac{\\partial}{\\partial \\tau} \\Delta{\\left (\\tau,\\delta \\right )}\\right)^{2} \\frac{\\partial^{2}}{\\partial \\delta^{2}}  \\Delta{\\left (\\tau,\\delta \\right )} - 6 b_{i}^{2} \\left(\\frac{\\partial}{\\partial \\delta} \\Delta{\\left (\\tau,\\delta \\right )}\\right)^{2} \\left(\\frac{\\partial}{\\partial \\tau} \\Delta{\\left (\\tau,\\delta \\right )}\\right)^{2} + 2 b_{i} \\Delta^{2}{\\left (\\tau,\\delta \\right )} \\frac{\\partial}{\\partial \\delta} \\Delta{\\left (\\tau,\\delta \\right )} \\frac{\\partial^{3}}{\\partial \\delta\\partial \\tau^{2}}  \\Delta{\\left (\\tau,\\delta \\right )} + 2 b_{i} \\Delta^{2}{\\left (\\tau,\\delta \\right )} \\frac{\\partial}{\\partial \\tau} \\Delta{\\left (\\tau,\\delta \\right )} \\frac{\\partial^{3}}{\\partial \\delta^{2}\\partial \\tau}  \\Delta{\\left (\\tau,\\delta \\right )} + b_{i} \\Delta^{2}{\\left (\\tau,\\delta \\right )} \\frac{\\partial^{2}}{\\partial \\delta^{2}}  \\Delta{\\left (\\tau,\\delta \\right )} \\frac{\\partial^{2}}{\\partial \\tau^{2}}  \\Delta{\\left (\\tau,\\delta \\right )} + 2 b_{i} \\Delta^{2}{\\left (\\tau,\\delta \\right )} \\left(\\frac{\\partial^{2}}{\\partial \\delta\\partial \\tau}  \\Delta{\\left (\\tau,\\delta \\right )}\\right)^{2} - 3 b_{i} \\Delta{\\left (\\tau,\\delta \\right )} \\left(\\frac{\\partial}{\\partial \\delta} \\Delta{\\left (\\tau,\\delta \\right )}\\right)^{2} \\frac{\\partial^{2}}{\\partial \\tau^{2}}  \\Delta{\\left (\\tau,\\delta \\right )} - 12 b_{i} \\Delta{\\left (\\tau,\\delta \\right )} \\frac{\\partial}{\\partial \\delta} \\Delta{\\left (\\tau,\\delta \\right )} \\frac{\\partial}{\\partial \\tau} \\Delta{\\left (\\tau,\\delta \\right )} \\frac{\\partial^{2}}{\\partial \\delta\\partial \\tau}  \\Delta{\\left (\\tau,\\delta \\right )} - 3 b_{i} \\Delta{\\left (\\tau,\\delta \\right )} \\left(\\frac{\\partial}{\\partial \\tau} \\Delta{\\left (\\tau,\\delta \\right )}\\right)^{2} \\frac{\\partial^{2}}{\\partial \\delta^{2}}  \\Delta{\\left (\\tau,\\delta \\right )} + 11 b_{i} \\left(\\frac{\\partial}{\\partial \\delta} \\Delta{\\left (\\tau,\\delta \\right )}\\right)^{2} \\left(\\frac{\\partial}{\\partial \\tau} \\Delta{\\left (\\tau,\\delta \\right )}\\right)^{2} + \\Delta^{3}{\\left (\\tau,\\delta \\right )} \\frac{\\partial^{4}}{\\partial \\delta^{2}\\partial \\tau^{2}}  \\Delta{\\left (\\tau,\\delta \\right )} - 2 \\Delta^{2}{\\left (\\tau,\\delta \\right )} \\frac{\\partial}{\\partial \\delta} \\Delta{\\left (\\tau,\\delta \\right )} \\frac{\\partial^{3}}{\\partial \\delta\\partial \\tau^{2}}  \\Delta{\\left (\\tau,\\delta \\right )} - 2 \\Delta^{2}{\\left (\\tau,\\delta \\right )} \\frac{\\partial}{\\partial \\tau} \\Delta{\\left (\\tau,\\delta \\right )} \\frac{\\partial^{3}}{\\partial \\delta^{2}\\partial \\tau}  \\Delta{\\left (\\tau,\\delta \\right )} - \\Delta^{2}{\\left (\\tau,\\delta \\right )} \\frac{\\partial^{2}}{\\partial \\delta^{2}}  \\Delta{\\left (\\tau,\\delta \\right )} \\frac{\\partial^{2}}{\\partial \\tau^{2}}  \\Delta{\\left (\\tau,\\delta \\right )} - 2 \\Delta^{2}{\\left (\\tau,\\delta \\right )} \\left(\\frac{\\partial^{2}}{\\partial \\delta\\partial \\tau}  \\Delta{\\left (\\tau,\\delta \\right )}\\right)^{2} + 2 \\Delta{\\left (\\tau,\\delta \\right )} \\left(\\frac{\\partial}{\\partial \\delta} \\Delta{\\left (\\tau,\\delta \\right )}\\right)^{2} \\frac{\\partial^{2}}{\\partial \\tau^{2}}  \\Delta{\\left (\\tau,\\delta \\right )} + 8 \\Delta{\\left (\\tau,\\delta \\right )} \\frac{\\partial}{\\partial \\delta} \\Delta{\\left (\\tau,\\delta \\right )} \\frac{\\partial}{\\partial \\tau} \\Delta{\\left (\\tau,\\delta \\right )} \\frac{\\partial^{2}}{\\partial \\delta\\partial \\tau}  \\Delta{\\left (\\tau,\\delta \\right )} + 2 \\Delta{\\left (\\tau,\\delta \\right )} \\left(\\frac{\\partial}{\\partial \\tau} \\Delta{\\left (\\tau,\\delta \\right )}\\right)^{2} \\frac{\\partial^{2}}{\\partial \\delta^{2}}  \\Delta{\\left (\\tau,\\delta \\right )} - 6 \\left(\\frac{\\partial}{\\partial \\delta} \\Delta{\\left (\\tau,\\delta \\right )}\\right)^{2} \\left(\\frac{\\partial}{\\partial \\tau} \\Delta{\\left (\\tau,\\delta \\right )}\\right)^{2}\\right) \\Delta^{b_{i} - 4}{\\left (\\tau,\\delta \\right )}$$"
       ],
       "metadata": {},
       "output_type": "display_data",
       "text": [
        "<IPython.core.display.Math at 0xbb890b8>"
       ]
      },
      {
       "latex": [
        "$$\\frac{\\partial{^{4}} \\Delta^{{b_i}}}{{\\partial \\tau}{\\partial \\delta^{3}}} = b_{i} \\left(\\left(b_{i}^{3} - 6 b_{i}^{2} + 11 b_{i} - 6\\right) \\left(\\frac{\\partial}{\\partial \\delta} \\Delta{\\left (\\tau,\\delta \\right )}\\right)^{3} \\frac{\\partial}{\\partial \\tau} \\Delta{\\left (\\tau,\\delta \\right )} + \\left(3 b_{i} \\frac{\\partial}{\\partial \\delta} \\Delta{\\left (\\tau,\\delta \\right )} \\frac{\\partial^{3}}{\\partial \\delta^{2}\\partial \\tau}  \\Delta{\\left (\\tau,\\delta \\right )} + b_{i} \\frac{\\partial}{\\partial \\tau} \\Delta{\\left (\\tau,\\delta \\right )} \\frac{\\partial^{3}}{\\partial \\delta^{3}}  \\Delta{\\left (\\tau,\\delta \\right )} + 3 b_{i} \\frac{\\partial^{2}}{\\partial \\delta^{2}}  \\Delta{\\left (\\tau,\\delta \\right )} \\frac{\\partial^{2}}{\\partial \\delta\\partial \\tau}  \\Delta{\\left (\\tau,\\delta \\right )} - 3 \\frac{\\partial}{\\partial \\delta} \\Delta{\\left (\\tau,\\delta \\right )} \\frac{\\partial^{3}}{\\partial \\delta^{2}\\partial \\tau}  \\Delta{\\left (\\tau,\\delta \\right )} - \\frac{\\partial}{\\partial \\tau} \\Delta{\\left (\\tau,\\delta \\right )} \\frac{\\partial^{3}}{\\partial \\delta^{3}}  \\Delta{\\left (\\tau,\\delta \\right )} - 3 \\frac{\\partial^{2}}{\\partial \\delta^{2}}  \\Delta{\\left (\\tau,\\delta \\right )} \\frac{\\partial^{2}}{\\partial \\delta\\partial \\tau}  \\Delta{\\left (\\tau,\\delta \\right )}\\right) \\Delta^{2}{\\left (\\tau,\\delta \\right )} + 3 \\left(b_{i}^{2} \\frac{\\partial}{\\partial \\delta} \\Delta{\\left (\\tau,\\delta \\right )} \\frac{\\partial^{2}}{\\partial \\delta\\partial \\tau}  \\Delta{\\left (\\tau,\\delta \\right )} + b_{i}^{2} \\frac{\\partial}{\\partial \\tau} \\Delta{\\left (\\tau,\\delta \\right )} \\frac{\\partial^{2}}{\\partial \\delta^{2}}  \\Delta{\\left (\\tau,\\delta \\right )} - 3 b_{i} \\frac{\\partial}{\\partial \\delta} \\Delta{\\left (\\tau,\\delta \\right )} \\frac{\\partial^{2}}{\\partial \\delta\\partial \\tau}  \\Delta{\\left (\\tau,\\delta \\right )} - 3 b_{i} \\frac{\\partial}{\\partial \\tau} \\Delta{\\left (\\tau,\\delta \\right )} \\frac{\\partial^{2}}{\\partial \\delta^{2}}  \\Delta{\\left (\\tau,\\delta \\right )} + 2 \\frac{\\partial}{\\partial \\delta} \\Delta{\\left (\\tau,\\delta \\right )} \\frac{\\partial^{2}}{\\partial \\delta\\partial \\tau}  \\Delta{\\left (\\tau,\\delta \\right )} + 2 \\frac{\\partial}{\\partial \\tau} \\Delta{\\left (\\tau,\\delta \\right )} \\frac{\\partial^{2}}{\\partial \\delta^{2}}  \\Delta{\\left (\\tau,\\delta \\right )}\\right) \\Delta{\\left (\\tau,\\delta \\right )} \\frac{\\partial}{\\partial \\delta} \\Delta{\\left (\\tau,\\delta \\right )} + \\Delta^{3}{\\left (\\tau,\\delta \\right )} \\frac{\\partial^{4}}{\\partial \\delta^{3}\\partial \\tau}  \\Delta{\\left (\\tau,\\delta \\right )}\\right) \\Delta^{b_{i} - 4}{\\left (\\tau,\\delta \\right )}$$"
       ],
       "metadata": {},
       "output_type": "display_data",
       "text": [
        "<IPython.core.display.Math at 0xbae1080>"
       ]
      },
      {
       "latex": [
        "$$\\frac{\\partial{^{4}} \\Delta^{{b_i}}}{{}{\\partial \\delta^{4}}} = b_{i} \\left(6 \\left(b_{i}^{2} - 3 b_{i} + 2\\right) \\Delta{\\left (\\tau,\\delta \\right )} \\left(\\frac{\\partial}{\\partial \\delta} \\Delta{\\left (\\tau,\\delta \\right )}\\right)^{2} \\frac{\\partial^{2}}{\\partial \\delta^{2}}  \\Delta{\\left (\\tau,\\delta \\right )} + \\left(b_{i}^{3} - 6 b_{i}^{2} + 11 b_{i} - 6\\right) \\left(\\frac{\\partial}{\\partial \\delta} \\Delta{\\left (\\tau,\\delta \\right )}\\right)^{4} + \\left(4 b_{i} \\frac{\\partial}{\\partial \\delta} \\Delta{\\left (\\tau,\\delta \\right )} \\frac{\\partial^{3}}{\\partial \\delta^{3}}  \\Delta{\\left (\\tau,\\delta \\right )} + 3 b_{i} \\left(\\frac{\\partial^{2}}{\\partial \\delta^{2}}  \\Delta{\\left (\\tau,\\delta \\right )}\\right)^{2} - 4 \\frac{\\partial}{\\partial \\delta} \\Delta{\\left (\\tau,\\delta \\right )} \\frac{\\partial^{3}}{\\partial \\delta^{3}}  \\Delta{\\left (\\tau,\\delta \\right )} - 3 \\left(\\frac{\\partial^{2}}{\\partial \\delta^{2}}  \\Delta{\\left (\\tau,\\delta \\right )}\\right)^{2}\\right) \\Delta^{2}{\\left (\\tau,\\delta \\right )} + \\Delta^{3}{\\left (\\tau,\\delta \\right )} \\frac{\\partial^{4}}{\\partial \\delta^{4}}  \\Delta{\\left (\\tau,\\delta \\right )}\\right) \\Delta^{b_{i} - 4}{\\left (\\tau,\\delta \\right )}$$"
       ],
       "metadata": {},
       "output_type": "display_data",
       "text": [
        "<IPython.core.display.Math at 0xba24ef0>"
       ]
      }
     ],
     "prompt_number": 9
    },
    {
     "cell_type": "code",
     "collapsed": false,
     "input": [],
     "language": "python",
     "metadata": {},
     "outputs": [],
     "prompt_number": 9
    }
   ],
   "metadata": {}
  }
 ]
}