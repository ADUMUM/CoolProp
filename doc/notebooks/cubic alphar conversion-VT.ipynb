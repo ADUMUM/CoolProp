{
 "cells": [
  {
   "cell_type": "markdown",
   "metadata": {},
   "source": [
    "## Helmholtz energy conversion of cubics"
   ]
  },
  {
   "cell_type": "markdown",
   "metadata": {},
   "source": [
    "As in Michelsen's book, a generalized volume-translated cubic EOS can be given the common form:\n",
    "$$ p = \\frac{RT}{v-b}-\\frac{a(T)}{(v+\\Delta_1b)(v+\\Delta_2b)} $$\n",
    "\n",
    "$$ p = \\frac{RT}{v+c-b}-\\frac{a(T)}{(v+c+\\Delta_1b)(v+c+\\Delta_2b)} $$\n"
   ]
  },
  {
   "cell_type": "code",
   "execution_count": 78,
   "metadata": {
    "collapsed": false
   },
   "outputs": [
    {
     "name": "stdout",
     "output_type": "stream",
     "text": [
      "IPython console for SymPy 0.7.6 (Python 2.7.10-32-bit) (ground types: python)\n"
     ]
    }
   ],
   "source": [
    "import sys\n",
    "from __future__ import division\n",
    "from sympy import *\n",
    "from IPython.display import display, Math, Latex\n",
    "from IPython.core.display import display_html\n",
    "init_session(quiet=True)\n",
    "init_printing()"
   ]
  },
  {
   "cell_type": "code",
   "execution_count": 79,
   "metadata": {
    "collapsed": false
   },
   "outputs": [],
   "source": [
    "b,rho_r,rho,tau,delta,T_r,R,Delta_1,Delta_2,T,v,c = symbols('b,rho_r,rho,tau,delta,T_r,R,Delta_1,Delta_2,T,v,c', positive = True)\n",
    "a = symbols('a', cls=Function, positive = True)(tau)"
   ]
  },
  {
   "cell_type": "code",
   "execution_count": 95,
   "metadata": {
    "collapsed": true
   },
   "outputs": [],
   "source": [
    "normal_cubic = True\n",
    "cubic = 'VdW'"
   ]
  },
  {
   "cell_type": "code",
   "execution_count": 96,
   "metadata": {
    "collapsed": false
   },
   "outputs": [
    {
     "data": {
      "text/latex": [
       "$$p = \\frac{R T}{- b + c + v} - \\frac{a{\\left (\\tau \\right )}}{\\left(c + v\\right)^{2}}$$"
      ],
      "text/plain": [
       "<IPython.core.display.Math object>"
      ]
     },
     "execution_count": 96,
     "metadata": {},
     "output_type": "execute_result"
    }
   ],
   "source": [
    "p = R*T/(v+c-b)-a/((v+c+Delta_1*b)*(v+c+Delta_2*b))\n",
    "if cubic == 'SRK':\n",
    "    p = p.subs(Delta_1,1).subs(Delta_2,0)\n",
    "elif cubic == 'VdW':\n",
    "    p = p.subs(Delta_1,0).subs(Delta_2,0)\n",
    "elif cubic == 'PR':\n",
    "    p = p.subs(Delta_1,1+sqrt(2)).subs(Delta_2,1-sqrt(2))\n",
    "Math('p = '+latex(p))"
   ]
  },
  {
   "cell_type": "code",
   "execution_count": 97,
   "metadata": {
    "collapsed": false
   },
   "outputs": [
    {
     "data": {
      "text/latex": [
       "$$Z = \\frac{v}{R T} \\left(\\frac{R T}{- b + c + v} - \\frac{a{\\left (\\tau \\right )}}{\\left(c + v\\right)^{2}}\\right)$$"
      ],
      "text/plain": [
       "<IPython.core.display.Math object>"
      ]
     },
     "execution_count": 97,
     "metadata": {},
     "output_type": "execute_result"
    }
   ],
   "source": [
    "Z = p*v/(R*T)\n",
    "Math('Z = '+latex(Z))"
   ]
  },
  {
   "cell_type": "code",
   "execution_count": 98,
   "metadata": {
    "collapsed": false
   },
   "outputs": [
    {
     "data": {
      "text/latex": [
       "$$Z = \\frac{1}{R T \\rho} \\left(\\frac{R T}{- b + c + \\frac{1}{\\rho}} - \\frac{a{\\left (\\tau \\right )}}{\\left(c + \\frac{1}{\\rho}\\right)^{2}}\\right)$$"
      ],
      "text/plain": [
       "<IPython.core.display.Math object>"
      ]
     },
     "metadata": {},
     "output_type": "display_data"
    },
    {
     "data": {
      "text/latex": [
       "$$Z = \\frac{1}{R T \\delta \\rho_{r}} \\left(\\frac{R T}{- b + c + \\frac{1}{\\delta \\rho_{r}}} - \\frac{a{\\left (\\tau \\right )}}{\\left(c + \\frac{1}{\\delta \\rho_{r}}\\right)^{2}}\\right)$$"
      ],
      "text/plain": [
       "<IPython.core.display.Math object>"
      ]
     },
     "metadata": {},
     "output_type": "display_data"
    },
    {
     "data": {
      "text/latex": [
       "$$\\frac{d\\alpha^r}{d\\delta}|\\tau = - \\frac{a{\\left (\\tau \\right )}}{R T c^{2} \\delta^{2} \\rho_{r} + 2 R T c \\delta + \\frac{R T}{\\rho_{r}}} + \\frac{1}{- b \\delta^{2} \\rho_{r} + c \\delta^{2} \\rho_{r} + \\delta} - \\frac{1}{\\delta}$$"
      ],
      "text/plain": [
       "<IPython.core.display.Math object>"
      ]
     },
     "execution_count": 98,
     "metadata": {},
     "output_type": "execute_result"
    }
   ],
   "source": [
    "Z = Z.replace(v, 1/rho)\n",
    "display(Math('Z = '+latex(Z)))\n",
    "#Z = Z.replace(T, T_r/tau)\n",
    "Z = Z.replace(rho, delta*rho_r)\n",
    "display(Math('Z = '+latex(Z)))\n",
    "dalphar_dDelta = (Z-1)/delta\n",
    "dalphar_dDelta = expand(simplify(dalphar_dDelta))\n",
    "Math('\\\\frac{d\\\\alpha^r}{d\\delta}|\\\\tau = ' + latex(dalphar_dDelta))"
   ]
  },
  {
   "cell_type": "code",
   "execution_count": 99,
   "metadata": {
    "collapsed": false
   },
   "outputs": [
    {
     "data": {
      "text/latex": [
       "$$\\alpha^r = \\frac{1}{R T c \\left(c \\delta \\rho_{r} + 1\\right)} \\left(- R T c \\left(c \\delta \\rho_{r} + 1\\right) \\log{\\left (\\frac{\\delta \\rho_{r} \\left(b - c\\right) - 1}{\\rho_{r} \\left(b - c\\right)} \\right )} + \\left(c \\delta \\rho_{r} + 1\\right) \\left(R T c \\log{\\left (- \\frac{1}{\\rho_{r} \\left(b - c\\right)} \\right )} - a{\\left (\\tau \\right )}\\right) + a{\\left (\\tau \\right )}\\right)$$"
      ],
      "text/plain": [
       "<IPython.core.display.Math object>"
      ]
     },
     "metadata": {},
     "output_type": "display_data"
    },
    {
     "data": {
      "text/latex": [
       "$$\\lim_{c \\to 0}\\alpha^r = - \\log{\\left (b \\delta \\rho_{r} - 1 \\right )} + i \\pi - \\frac{\\delta \\rho_{r}}{R T} a{\\left (\\tau \\right )}$$"
      ],
      "text/plain": [
       "<IPython.core.display.Math object>"
      ]
     },
     "metadata": {},
     "output_type": "display_data"
    }
   ],
   "source": [
    "antideriv_pieces = 0\n",
    "for arg in expand(simplify(dalphar_dDelta))._args:\n",
    "    antideriv_pieces += integrate(arg,delta)\n",
    "\n",
    "antideriv_pieces = simplify(antideriv_pieces)\n",
    "alphar = antideriv_pieces - antideriv_pieces.subs(delta,0)\n",
    "\n",
    "display(Math('\\\\alpha^r = ' + latex(simplify(alphar))))\n",
    "display(Math('\\\\lim_{c \\\\to 0}\\\\alpha^r = ' + latex(simplify(limit(alphar,c,0)))))"
   ]
  },
  {
   "cell_type": "code",
   "execution_count": 100,
   "metadata": {
    "collapsed": false
   },
   "outputs": [],
   "source": [
    "# Maybe turn off volume translation\n",
    "if normal_cubic:\n",
    "    alphar = limit(alphar,c,0)"
   ]
  },
  {
   "cell_type": "code",
   "execution_count": 101,
   "metadata": {
    "collapsed": false
   },
   "outputs": [],
   "source": [
    "def format_deriv(arg, itau, idel, RHS):\n",
    "    \"\"\" \n",
    "    A function for giving a nice latex representation of \n",
    "    the partial derivative in question \n",
    "    \"\"\"\n",
    "    if itau+idel == 1:\n",
    "        numexp = ''\n",
    "    else:\n",
    "        numexp = '^{{{s:d}}}'.format(s=itau+idel)\n",
    "        \n",
    "    if itau == 0:\n",
    "        tau = ''\n",
    "    elif itau == 1:\n",
    "        tau = '\\\\partial \\\\tau'\n",
    "    else:\n",
    "        tau = '\\\\partial \\\\tau^{{{s:d}}}'.format(s=itau)\n",
    "        \n",
    "    if idel == 0:\n",
    "        delta = ''\n",
    "    elif idel == 1:\n",
    "        delta = '\\\\partial \\\\delta'\n",
    "    else:\n",
    "        delta = '\\\\partial \\\\delta^{{{s:d}}}'.format(s=idel)\n",
    "        \n",
    "    temp = '\\\\frac{{\\\\partial{{{numexp:s}}} {arg:s}}}{{{{{tau:s}}}{{{delta:s}}}}} = '\n",
    "    return Math(temp.format(**locals()) + latex(RHS))"
   ]
  },
  {
   "cell_type": "code",
   "execution_count": 102,
   "metadata": {
    "collapsed": false
   },
   "outputs": [
    {
     "data": {
      "text/latex": [
       "$$\\frac{\\partial{} \\alpha^r}{{}{\\partial \\delta}} = \\frac{1}{R T} \\left(- \\frac{R T}{\\delta - \\frac{1}{b \\rho_{r}}} - \\rho_{r} a{\\left (\\tau \\right )}\\right)$$"
      ],
      "text/plain": [
       "<IPython.core.display.Math object>"
      ]
     },
     "metadata": {},
     "output_type": "display_data"
    },
    {
     "data": {
      "text/latex": [
       "$$\\frac{\\partial{} \\alpha^r}{{\\partial \\tau}{}} = - \\frac{\\delta \\rho_{r}}{R T} \\frac{d}{d \\tau} a{\\left (\\tau \\right )}$$"
      ],
      "text/plain": [
       "<IPython.core.display.Math object>"
      ]
     },
     "metadata": {},
     "output_type": "display_data"
    },
    {
     "data": {
      "text/latex": [
       "$$\\frac{\\partial{^{2}} \\alpha^r}{{}{\\partial \\delta^{2}}} = \\frac{1}{\\left(\\delta - \\frac{1}{b \\rho_{r}}\\right)^{2}}$$"
      ],
      "text/plain": [
       "<IPython.core.display.Math object>"
      ]
     },
     "metadata": {},
     "output_type": "display_data"
    },
    {
     "data": {
      "text/latex": [
       "$$\\frac{\\partial{^{2}} \\alpha^r}{{\\partial \\tau}{\\partial \\delta}} = - \\frac{\\rho_{r}}{R T} \\frac{d}{d \\tau} a{\\left (\\tau \\right )}$$"
      ],
      "text/plain": [
       "<IPython.core.display.Math object>"
      ]
     },
     "metadata": {},
     "output_type": "display_data"
    },
    {
     "data": {
      "text/latex": [
       "$$\\frac{\\partial{^{2}} \\alpha^r}{{\\partial \\tau^{2}}{}} = - \\frac{\\delta \\rho_{r}}{R T} \\frac{d^{2}}{d \\tau^{2}}  a{\\left (\\tau \\right )}$$"
      ],
      "text/plain": [
       "<IPython.core.display.Math object>"
      ]
     },
     "metadata": {},
     "output_type": "display_data"
    },
    {
     "data": {
      "text/latex": [
       "$$\\frac{\\partial{^{3}} \\alpha^r}{{}{\\partial \\delta^{3}}} = - \\frac{2}{\\left(\\delta - \\frac{1}{b \\rho_{r}}\\right)^{3}}$$"
      ],
      "text/plain": [
       "<IPython.core.display.Math object>"
      ]
     },
     "metadata": {},
     "output_type": "display_data"
    },
    {
     "data": {
      "text/latex": [
       "$$\\frac{\\partial{^{3}} \\alpha^r}{{\\partial \\tau}{\\partial \\delta^{2}}} = 0$$"
      ],
      "text/plain": [
       "<IPython.core.display.Math object>"
      ]
     },
     "metadata": {},
     "output_type": "display_data"
    },
    {
     "data": {
      "text/latex": [
       "$$\\frac{\\partial{^{3}} \\alpha^r}{{\\partial \\tau^{2}}{\\partial \\delta}} = - \\frac{\\rho_{r}}{R T} \\frac{d^{2}}{d \\tau^{2}}  a{\\left (\\tau \\right )}$$"
      ],
      "text/plain": [
       "<IPython.core.display.Math object>"
      ]
     },
     "metadata": {},
     "output_type": "display_data"
    },
    {
     "data": {
      "text/latex": [
       "$$\\frac{\\partial{^{3}} \\alpha^r}{{\\partial \\tau^{3}}{}} = - \\frac{\\delta \\rho_{r}}{R T} \\frac{d^{3}}{d \\tau^{3}}  a{\\left (\\tau \\right )}$$"
      ],
      "text/plain": [
       "<IPython.core.display.Math object>"
      ]
     },
     "metadata": {},
     "output_type": "display_data"
    },
    {
     "data": {
      "text/latex": [
       "$$\\frac{\\partial{^{4}} \\alpha^r}{{}{\\partial \\delta^{4}}} = \\frac{6}{\\left(\\delta - \\frac{1}{b \\rho_{r}}\\right)^{4}}$$"
      ],
      "text/plain": [
       "<IPython.core.display.Math object>"
      ]
     },
     "metadata": {},
     "output_type": "display_data"
    },
    {
     "data": {
      "text/latex": [
       "$$\\frac{\\partial{^{4}} \\alpha^r}{{\\partial \\tau}{\\partial \\delta^{3}}} = 0$$"
      ],
      "text/plain": [
       "<IPython.core.display.Math object>"
      ]
     },
     "metadata": {},
     "output_type": "display_data"
    },
    {
     "data": {
      "text/latex": [
       "$$\\frac{\\partial{^{4}} \\alpha^r}{{\\partial \\tau^{2}}{\\partial \\delta^{2}}} = 0$$"
      ],
      "text/plain": [
       "<IPython.core.display.Math object>"
      ]
     },
     "metadata": {},
     "output_type": "display_data"
    },
    {
     "data": {
      "text/latex": [
       "$$\\frac{\\partial{^{4}} \\alpha^r}{{\\partial \\tau^{3}}{\\partial \\delta}} = - \\frac{\\rho_{r}}{R T} \\frac{d^{3}}{d \\tau^{3}}  a{\\left (\\tau \\right )}$$"
      ],
      "text/plain": [
       "<IPython.core.display.Math object>"
      ]
     },
     "metadata": {},
     "output_type": "display_data"
    },
    {
     "data": {
      "text/latex": [
       "$$\\frac{\\partial{^{4}} \\alpha^r}{{\\partial \\tau^{4}}{}} = - \\frac{\\delta \\rho_{r}}{R T} \\frac{d^{4}}{d \\tau^{4}}  a{\\left (\\tau \\right )}$$"
      ],
      "text/plain": [
       "<IPython.core.display.Math object>"
      ]
     },
     "metadata": {},
     "output_type": "display_data"
    }
   ],
   "source": [
    "for deriv_count in range(1,5):\n",
    "    for dtau in range(deriv_count+1):\n",
    "        ddelta = deriv_count-dtau\n",
    "        #print dtau, ddelta\n",
    "        display(format_deriv('\\\\alpha^r', dtau, ddelta, diff(diff(alphar,tau,dtau),delta,ddelta)))"
   ]
  },
  {
   "cell_type": "code",
   "execution_count": null,
   "metadata": {
    "collapsed": false
   },
   "outputs": [],
   "source": []
  }
 ],
 "metadata": {
  "kernelspec": {
   "display_name": "Python 2",
   "language": "python",
   "name": "python2"
  },
  "language_info": {
   "codemirror_mode": {
    "name": "ipython",
    "version": 2
   },
   "file_extension": ".py",
   "mimetype": "text/x-python",
   "name": "python",
   "nbconvert_exporter": "python",
   "pygments_lexer": "ipython2",
   "version": "2.7.10"
  }
 },
 "nbformat": 4,
 "nbformat_minor": 0
}
